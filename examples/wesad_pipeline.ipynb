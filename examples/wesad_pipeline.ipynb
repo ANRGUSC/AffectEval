{
 "cells": [
  {
   "cell_type": "markdown",
   "metadata": {},
   "source": [
    "### An example implementation of the CAREforMe pipeline using the WESAD dataset"
   ]
  },
  {
   "cell_type": "code",
   "execution_count": 2,
   "metadata": {},
   "outputs": [
    {
     "name": "stdout",
     "output_type": "stream",
     "text": [
      "The autoreload extension is already loaded. To reload it, use:\n",
      "  %reload_ext autoreload\n"
     ]
    }
   ],
   "source": [
    "%load_ext autoreload\n",
    "%autoreload 2\n",
    "\n",
    "import os\n",
    "import sys\n",
    "module_path = os.path.abspath(os.path.join(\"../\"))\n",
    "sys.path.insert(0, module_path)\n",
    "\n",
    "import numpy as np\n",
    "import pandas as pd\n",
    "import wesad\n",
    "\n",
    "import signals\n",
    "\n",
    "\n",
    "ROOT_DIR = \"C:\\\\Users\\\\zhoux\\\\Desktop\\\\Projects\\\\CAREforMe\"\n",
    "DATA_DIR = os.path.join(ROOT_DIR, \"data\")\n",
    "WESAD_PATH = os.path.join(DATA_DIR, \"WESAD\")\n",
    "METRICS = os.path.join(DATA_DIR, \"metrics\", \"WESAD\")\n",
    "\n",
    "subject_indices = list(range(2, 12)) + list(range(13, 18))\n",
    "SUBJECTS = [str(i) for i in subject_indices]"
   ]
  },
  {
   "cell_type": "code",
   "execution_count": null,
   "metadata": {},
   "outputs": [],
   "source": [
    "# Format data to be compatible with CAREforMe pipeline\n",
    "# Only needs to be run once \n",
    "wesad.reformat_and_save_data()"
   ]
  },
  {
   "cell_type": "code",
   "execution_count": 4,
   "metadata": {},
   "outputs": [
    {
     "ename": "FileNotFoundError",
     "evalue": "[WinError 3] The system cannot find the path specified: 'C:\\\\Users\\\\Admin\\\\Desktop\\\\Projects\\\\CAREforMe\\\\data\\\\WESAD\\\\formatted'",
     "output_type": "error",
     "traceback": [
      "\u001b[1;31m---------------------------------------------------------------------------\u001b[0m",
      "\u001b[1;31mFileNotFoundError\u001b[0m                         Traceback (most recent call last)",
      "Cell \u001b[1;32mIn[4], line 21\u001b[0m\n\u001b[0;32m     15\u001b[0m source_folder \u001b[38;5;241m=\u001b[39m os\u001b[38;5;241m.\u001b[39mpath\u001b[38;5;241m.\u001b[39mjoin(wesad_path, \u001b[38;5;124m\"\u001b[39m\u001b[38;5;124mformatted\u001b[39m\u001b[38;5;124m\"\u001b[39m)\n\u001b[0;32m     16\u001b[0m signal_types \u001b[38;5;241m=\u001b[39m [\n\u001b[0;32m     17\u001b[0m     signals\u001b[38;5;241m.\u001b[39mSignals\u001b[38;5;241m.\u001b[39mECG,\n\u001b[0;32m     18\u001b[0m     signals\u001b[38;5;241m.\u001b[39mSignals\u001b[38;5;241m.\u001b[39mEDA\n\u001b[0;32m     19\u001b[0m ]\n\u001b[1;32m---> 21\u001b[0m signal_acq \u001b[38;5;241m=\u001b[39m \u001b[43mSignalAcquisition\u001b[49m\u001b[43m(\u001b[49m\u001b[43msource_folder\u001b[49m\u001b[38;5;241;43m=\u001b[39;49m\u001b[43msource_folder\u001b[49m\u001b[43m,\u001b[49m\u001b[43m \u001b[49m\u001b[43msignal_types\u001b[49m\u001b[38;5;241;43m=\u001b[39;49m\u001b[43msignal_types\u001b[49m\u001b[43m)\u001b[49m\n\u001b[0;32m     22\u001b[0m signal_preprocessor \u001b[38;5;241m=\u001b[39m SignalPreprocessor()\n\u001b[0;32m     23\u001b[0m feature_extractor \u001b[38;5;241m=\u001b[39m FeatureExtractor()\n",
      "File \u001b[1;32mc:\\Users\\Admin\\Desktop\\Projects\\CAREForMe\\signal_acquisition\\signal_acquisition.py:28\u001b[0m, in \u001b[0;36mSignalAcquisition.__init__\u001b[1;34m(self, source_folder, signal_types, name, labels)\u001b[0m\n\u001b[0;32m     26\u001b[0m     name \u001b[38;5;241m=\u001b[39m \u001b[38;5;124m\"\u001b[39m\u001b[38;5;124mSignal Acquisition\u001b[39m\u001b[38;5;124m\"\u001b[39m\n\u001b[0;32m     27\u001b[0m \u001b[38;5;28mself\u001b[39m\u001b[38;5;241m.\u001b[39m_name \u001b[38;5;241m=\u001b[39m name\n\u001b[1;32m---> 28\u001b[0m \u001b[38;5;28mself\u001b[39m\u001b[38;5;241m.\u001b[39m_database \u001b[38;5;241m=\u001b[39m \u001b[38;5;28;43mself\u001b[39;49m\u001b[38;5;241;43m.\u001b[39;49m\u001b[43mread_from_source_folder\u001b[49m\u001b[43m(\u001b[49m\u001b[43msource_folder\u001b[49m\u001b[43m,\u001b[49m\u001b[43m \u001b[49m\u001b[43msignal_types\u001b[49m\u001b[43m)\u001b[49m\n\u001b[0;32m     29\u001b[0m \u001b[38;5;28mself\u001b[39m\u001b[38;5;241m.\u001b[39m_input_type \u001b[38;5;241m=\u001b[39m \u001b[38;5;28;01mNone\u001b[39;00m\n\u001b[0;32m     30\u001b[0m \u001b[38;5;28mself\u001b[39m\u001b[38;5;241m.\u001b[39m_output_type \u001b[38;5;241m=\u001b[39m \u001b[38;5;28mdict\u001b[39m\n",
      "File \u001b[1;32mc:\\Users\\Admin\\Desktop\\Projects\\CAREForMe\\signal_acquisition\\signal_acquisition.py:50\u001b[0m, in \u001b[0;36mSignalAcquisition.read_from_source_folder\u001b[1;34m(self, source_folder, signal_types)\u001b[0m\n\u001b[0;32m     36\u001b[0m \u001b[38;5;28;01mdef\u001b[39;00m \u001b[38;5;21mread_from_source_folder\u001b[39m(\u001b[38;5;28mself\u001b[39m, source_folder, signal_types):\n\u001b[0;32m     37\u001b[0m \u001b[38;5;250m    \u001b[39m\u001b[38;5;124;03m\"\"\"\u001b[39;00m\n\u001b[0;32m     38\u001b[0m \u001b[38;5;124;03m    Reads all .csv and .json files from the source folder recursively. Files in the same folder will \u001b[39;00m\n\u001b[0;32m     39\u001b[0m \u001b[38;5;124;03m    be grouped together in one list.\u001b[39;00m\n\u001b[1;32m   (...)\u001b[0m\n\u001b[0;32m     48\u001b[0m \u001b[38;5;124;03m    :return: A dictionary of lists of pd.DataFrames\u001b[39;00m\n\u001b[0;32m     49\u001b[0m \u001b[38;5;124;03m    \"\"\"\u001b[39;00m\n\u001b[1;32m---> 50\u001b[0m     data_files \u001b[38;5;241m=\u001b[39m \u001b[38;5;28;43mself\u001b[39;49m\u001b[38;5;241;43m.\u001b[39;49m\u001b[43m_get_data_files\u001b[49m\u001b[43m(\u001b[49m\u001b[43msource_folder\u001b[49m\u001b[43m,\u001b[49m\u001b[43m \u001b[49m\u001b[43msignal_types\u001b[49m\u001b[43m)\u001b[49m\n\u001b[0;32m     51\u001b[0m     \u001b[38;5;66;03m# Need to distinguish between different participants\u001b[39;00m\n\u001b[0;32m     52\u001b[0m     data \u001b[38;5;241m=\u001b[39m {}\n",
      "File \u001b[1;32mc:\\Users\\Admin\\Desktop\\Projects\\CAREForMe\\signal_acquisition\\signal_acquisition.py:59\u001b[0m, in \u001b[0;36mSignalAcquisition._get_data_files\u001b[1;34m(self, source_folder, signal_types)\u001b[0m\n\u001b[0;32m     57\u001b[0m \u001b[38;5;28;01mdef\u001b[39;00m \u001b[38;5;21m_get_data_files\u001b[39m(\u001b[38;5;28mself\u001b[39m, source_folder, signal_types):\n\u001b[0;32m     58\u001b[0m     files_dict \u001b[38;5;241m=\u001b[39m {}\n\u001b[1;32m---> 59\u001b[0m     dir_list \u001b[38;5;241m=\u001b[39m [os\u001b[38;5;241m.\u001b[39mpath\u001b[38;5;241m.\u001b[39mjoin(source_folder, f) \u001b[38;5;28;01mfor\u001b[39;00m f \u001b[38;5;129;01min\u001b[39;00m \u001b[43mos\u001b[49m\u001b[38;5;241;43m.\u001b[39;49m\u001b[43mlistdir\u001b[49m\u001b[43m(\u001b[49m\u001b[43msource_folder\u001b[49m\u001b[43m)\u001b[49m]  \u001b[38;5;66;03m# Lists all files and subdirectories\u001b[39;00m\n\u001b[0;32m     60\u001b[0m     \u001b[38;5;28;01mfor\u001b[39;00m p \u001b[38;5;129;01min\u001b[39;00m dir_list:\n\u001b[0;32m     61\u001b[0m         \u001b[38;5;28;01mif\u001b[39;00m os\u001b[38;5;241m.\u001b[39mpath\u001b[38;5;241m.\u001b[39misdir(p):\n",
      "\u001b[1;31mFileNotFoundError\u001b[0m: [WinError 3] The system cannot find the path specified: 'C:\\\\Users\\\\Admin\\\\Desktop\\\\Projects\\\\CAREforMe\\\\data\\\\WESAD\\\\formatted'"
     ]
    }
   ],
   "source": [
    "# Build pipeline with default preprocessing and feature extraction methods\n",
    "import feature_extractor.feature_extractor\n",
    "import signal_acquisition.signal_acquisition\n",
    "import signal_preprocessor.signal_preprocessor\n",
    "import pipeline.pipeline\n",
    "import biosppy as bp\n",
    "\n",
    "from feature_extractor.feature_extractor import FeatureExtractor\n",
    "from signal_acquisition.signal_acquisition import SignalAcquisition\n",
    "from signal_preprocessor.signal_preprocessor import SignalPreprocessor\n",
    "from pipeline.pipeline import Node, Pipeline\n",
    "\n",
    "\n",
    "wesad_path = \"C:\\\\Users\\\\Admin\\\\Desktop\\\\Projects\\\\CAREforMe\\\\data\\\\WESAD\"\n",
    "source_folder = os.path.join(wesad_path, \"formatted\")\n",
    "signal_types = [\n",
    "    signals.Signals.ECG,\n",
    "    signals.Signals.EDA\n",
    "]\n",
    "\n",
    "signal_acq = SignalAcquisition(source_folder=source_folder, signal_types=signal_types)\n",
    "signal_preprocessor = SignalPreprocessor()\n",
    "feature_extractor = FeatureExtractor()\n",
    "\n",
    "pipeline = Pipeline()\n",
    "# pipeline.add_layer(signal_acq)\n",
    "# pipeline.add_layer(signal_preprocessor)\n",
    "# pipeline.add_layer(feature_extractor)\n",
    "\n",
    "pipeline.generate_nodes_from_layers(\n",
    "    [signal_acq, signal_preprocessor, feature_extractor]\n",
    ")\n",
    "\n",
    "pipeline.run()"
   ]
  }
 ],
 "metadata": {
  "kernelspec": {
   "display_name": "Python 3",
   "language": "python",
   "name": "python3"
  },
  "language_info": {
   "codemirror_mode": {
    "name": "ipython",
    "version": 3
   },
   "file_extension": ".py",
   "mimetype": "text/x-python",
   "name": "python",
   "nbconvert_exporter": "python",
   "pygments_lexer": "ipython3",
   "version": "3.10.0"
  }
 },
 "nbformat": 4,
 "nbformat_minor": 2
}
