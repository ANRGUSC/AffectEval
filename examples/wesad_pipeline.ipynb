{
 "cells": [
  {
   "cell_type": "markdown",
   "metadata": {},
   "source": [
    "### An example implementation of the CAREforMe pipeline using the WESAD dataset"
   ]
  },
  {
   "cell_type": "code",
   "execution_count": 1,
   "metadata": {},
   "outputs": [],
   "source": [
    "%load_ext autoreload\n",
    "%autoreload 2\n",
    "\n",
    "import os\n",
    "import sys\n",
    "module_path = os.path.abspath(os.path.join(\"../care_for_me\"))\n",
    "sys.path.insert(0, module_path)\n",
    "module_path = os.path.abspath(os.path.join(\"..\"))\n",
    "sys.path.insert(0, module_path)\n",
    "\n",
    "import numpy as np\n",
    "import pandas as pd\n",
    "import wesad\n",
    "\n",
    "from care_for_me import signals\n",
    "from sklearn.metrics import accuracy_score, f1_score\n",
    "\n",
    "subject_indices = list(range(2, 12)) + list(range(13, 18))\n",
    "SUBJECTS = [str(i) for i in subject_indices]\n",
    "\n",
    "# NOTE: Change ROOT_DIR according to your own file structure. This will be the only place you will need to do this.\n",
    "ROOT_DIR = \"/Users/emilyzhou/Desktop/Research/CAREForMe/\"\n",
    "DATA_DIR = os.path.join(ROOT_DIR, \"data\")\n",
    "WESAD_PATH = os.path.join(DATA_DIR, \"WESAD\")\n",
    "SOURCE_FOLDER = os.path.join(WESAD_PATH, \"formatted\")\n",
    "ANNOTATIONS_PATH = os.path.join(WESAD_PATH, \"annotations\")\n",
    "METRICS = os.path.join(DATA_DIR, \"metrics\", \"WESAD\")"
   ]
  },
  {
   "cell_type": "code",
   "execution_count": 9,
   "metadata": {},
   "outputs": [],
   "source": [
    "# Format data to be compatible with CAREforMe pipeline\n",
    "# Only needs to be run once locally \n",
    "# Status: COMPLETE, do not re-run\n",
    "\n",
    "import glob\n",
    "import os\n",
    "\n",
    "\n",
    "# wesad.reformat_and_save_data(WESAD_PATH)\n",
    "\n",
    "# Rename Medi_1 and Medi_2 files to Medi1 and Medi2\n",
    "files_to_rename = glob.glob(os.path.join(SOURCE_FOLDER, \"*/*Medi_*.csv\"))\n",
    "for file in files_to_rename:\n",
    "    file_name = file.split(\"_\")\n",
    "    new_name = f\"{file_name[0]}_{file_name[1]}{file_name[2]}_{file_name[3]}\"\n",
    "    os.rename(file, new_name)"
   ]
  },
  {
   "cell_type": "code",
   "execution_count": 2,
   "metadata": {},
   "outputs": [],
   "source": [
    "labels = wesad.generate_labels(ANNOTATIONS_PATH, threshold=\"dynamic\")\n",
    "# print(labels)\n",
    "\n",
    "def generate_labels(data):\n",
    "    \"\"\"\n",
    "    Generate binary labels for WESAD based on the STAI questionnaire and the input data format.\n",
    "    \n",
    "    Parameters\n",
    "    --------------------\n",
    "    :param data: Features to generate labels for. Must include subject ID and phase columns.\n",
    "    :type data: pd.DataFrame\n",
    "\n",
    "    Returns\n",
    "    --------------------\n",
    "    Generated labels and the unmodified input data.\n",
    "    \"\"\"\n",
    "    annotations = wesad.generate_labels(ANNOTATIONS_PATH, threshold=\"dynamic\")\n",
    "    labels = []\n",
    "    for i in range(data.shape[0]):\n",
    "        subject = int(data[\"subject\"].iloc[i])\n",
    "        phase = data[\"Phase\"].iloc[i]\n",
    "        label_row = annotations.loc[(annotations[\"subject\"] == subject)]\n",
    "        label = label_row[phase]\n",
    "        labels.append(label)\n",
    "    labels = np.array(labels).ravel()\n",
    "    return labels, data"
   ]
  },
  {
   "cell_type": "markdown",
   "metadata": {},
   "source": [
    "### Binary stress classification"
   ]
  },
  {
   "cell_type": "code",
   "execution_count": 4,
   "metadata": {},
   "outputs": [
    {
     "name": "stdout",
     "output_type": "stream",
     "text": [
      "Running node Signal Acquisition...\n",
      "- Elapsed time: 0.0 s\n",
      "Running node Signal Preprocessor...\n",
      "- Elapsed time: 0.369 s\n",
      "Running node Feature Extractor...\n"
     ]
    },
    {
     "name": "stderr",
     "output_type": "stream",
     "text": [
      "100%|██████████| 15/15 [00:15<00:00,  1.06s/it]"
     ]
    },
    {
     "name": "stdout",
     "output_type": "stream",
     "text": [
      "- Elapsed time: 15.944 s\n",
      "Running node Label Generator...\n",
      "- Elapsed time: 0.051 s\n",
      "Running node Feature Selector...\n",
      "- Elapsed time: 0.125 s\n",
      "Running node SVC train-val-test...\n",
      "Cross-validation scores: [0.83333333 0.75       0.66666667 1.         0.83333333]\n",
      "- Elapsed time: 0.009 s\n",
      "\n",
      "Accuracy: 0.9333333333333333\n"
     ]
    },
    {
     "name": "stderr",
     "output_type": "stream",
     "text": [
      "\n"
     ]
    }
   ],
   "source": [
    "# Build pipeline with default preprocessing and feature extraction methods\n",
    "\n",
    "from care_for_me.signal_acquisition.signal_acquisition import SignalAcquisition\n",
    "from care_for_me.signal_preprocessor.signal_preprocessor import SignalPreprocessor\n",
    "from care_for_me.feature_extractor.feature_extractor import FeatureExtractor\n",
    "from care_for_me.label_generator.label_generator import LabelGenerator\n",
    "from care_for_me.feature_selector.feature_selector import FeatureSelector\n",
    "from care_for_me.classification.estimator import Estimator\n",
    "from care_for_me.pipeline.pipeline import Pipeline\n",
    "\n",
    "from sklearn.svm import SVC\n",
    "\n",
    "\n",
    "signal_types = [\n",
    "    signals.Signals.ECG,\n",
    "    signals.Signals.EDA\n",
    "]\n",
    "feature_names = [\n",
    "    signals.Features.HR, signals.Features.RMSSD, signals.Features.SDNN,\n",
    "    # signals.Features.HR,\n",
    "    signals.Features.MEAN_SCL, signals.Features.SCR_RATE\n",
    "]\n",
    "\n",
    "label_gen = generate_labels\n",
    "signal_acq = SignalAcquisition(signal_types=signal_types, source_folder=SOURCE_FOLDER)\n",
    "signal_preprocessor = SignalPreprocessor(skip=True, resample_rate=0)\n",
    "feature_extractor = FeatureExtractor()\n",
    "label_generator = LabelGenerator(label_generation_method=label_gen)\n",
    "\n",
    "model = SVC()\n",
    "feature_selector = FeatureSelector(model, feature_names, num_features=3)\n",
    "estimator_train = Estimator(0, model, name=\"SVC training\")\n",
    "estimator_test = Estimator(1, model, name=\"SVC testing\")\n",
    "estimator_train_val_test = Estimator(2, model, name=\"SVC train-val-test\")\n",
    "\n",
    "pipeline = Pipeline()\n",
    "\n",
    "pipeline.generate_nodes_from_layers(\n",
    "    # [signal_acq, signal_preprocessor, feature_extractor]\n",
    "    # [signal_acq, signal_preprocessor, feature_extractor, label_generator, feature_selector]\n",
    "    # [signal_acq, signal_preprocessor, feature_extractor, label_generator, feature_selector, estimator_train, estimator_test]\n",
    "    [signal_acq, signal_preprocessor, feature_extractor, label_generator, feature_selector, estimator_train_val_test]\n",
    ")\n",
    "\n",
    "# We leave it up to the user to handle the final output of the pipeline. \n",
    "out = pipeline.run()\n",
    "\n",
    "# Results\n",
    "# fitted_model = out[0]\n",
    "y_true = out[1]\n",
    "y_pred = out[2]\n",
    "\n",
    "acc = accuracy_score(y_true, y_pred)\n",
    "# f1 = f1_score(y_true, y_pred)\n",
    "\n",
    "print(f\"\\nAccuracy: {acc}\")\n",
    "# print(f\"F1-score: {f1}\")"
   ]
  },
  {
   "cell_type": "markdown",
   "metadata": {},
   "source": [
    "### Subject identification"
   ]
  },
  {
   "cell_type": "code",
   "execution_count": 6,
   "metadata": {},
   "outputs": [
    {
     "name": "stdout",
     "output_type": "stream",
     "text": [
      "Running node Signal Acquisition...\n",
      "- Elapsed time: 0.0 s\n",
      "Running node Signal Preprocessor...\n",
      "- Elapsed time: 0.376 s\n",
      "Running node Feature Extractor...\n"
     ]
    },
    {
     "name": "stderr",
     "output_type": "stream",
     "text": [
      "100%|██████████| 15/15 [00:16<00:00,  1.08s/it]\n"
     ]
    },
    {
     "name": "stdout",
     "output_type": "stream",
     "text": [
      "- Elapsed time: 16.208 s\n",
      "Running node Label Generator...\n",
      "- Elapsed time: 0.0 s\n",
      "Running node Feature Selector...\n",
      "- Elapsed time: 0.209 s\n",
      "Running node SVC train-val-test...\n",
      "Cross-validation scores: [0.25       0.25       0.08333333 0.25       0.16666667]\n",
      "- Elapsed time: 0.015 s\n",
      "\n",
      "Accuracy: 0.06666666666666667\n"
     ]
    },
    {
     "name": "stderr",
     "output_type": "stream",
     "text": [
      "/Library/Frameworks/Python.framework/Versions/3.12/lib/python3.12/site-packages/sklearn/model_selection/_split.py:776: UserWarning: The least populated class in y has only 1 members, which is less than n_splits=5.\n",
      "  warnings.warn(\n"
     ]
    }
   ],
   "source": [
    "# Build pipeline with default preprocessing and feature extraction methods\n",
    "\n",
    "from care_for_me.signal_acquisition.signal_acquisition import SignalAcquisition\n",
    "from care_for_me.signal_preprocessor.signal_preprocessor import SignalPreprocessor\n",
    "from care_for_me.feature_extractor.feature_extractor import FeatureExtractor\n",
    "from care_for_me.label_generator.label_generator import LabelGenerator\n",
    "from care_for_me.feature_selector.feature_selector import FeatureSelector\n",
    "from care_for_me.classification.estimator import Estimator\n",
    "from care_for_me.pipeline.pipeline import Pipeline\n",
    "\n",
    "from sklearn.svm import SVC\n",
    "\n",
    "\n",
    "signal_types = [\n",
    "    signals.Signals.ECG,\n",
    "    signals.Signals.EDA\n",
    "]\n",
    "feature_names = [\n",
    "    signals.Features.HR, signals.Features.RMSSD, signals.Features.SDNN,\n",
    "    # signals.Features.HR,\n",
    "    signals.Features.MEAN_SCL, signals.Features.SCR_RATE\n",
    "]\n",
    "\n",
    "labels = os.path.join(WESAD_PATH, \"ANNOTATIONS_PATH\")\n",
    "label_gen = \"subject\"\n",
    "signal_acq = SignalAcquisition(signal_types=signal_types, source_folder=SOURCE_FOLDER)\n",
    "signal_preprocessor = SignalPreprocessor(skip=True, resample_rate=0)\n",
    "feature_extractor = FeatureExtractor()\n",
    "label_generator = LabelGenerator(label_generation_method=label_gen)\n",
    "\n",
    "model = SVC()\n",
    "feature_selector = FeatureSelector(model, feature_names, num_features=3)\n",
    "estimator_train = Estimator(0, model, name=\"SVC training\")\n",
    "estimator_test = Estimator(1, model, name=\"SVC testing\")\n",
    "estimator_train_val_test = Estimator(2, model, name=\"SVC train-val-test\")\n",
    "\n",
    "pipeline = Pipeline()\n",
    "\n",
    "pipeline.generate_nodes_from_layers(\n",
    "    # [signal_acq, signal_preprocessor, feature_extractor]\n",
    "    # [signal_acq, signal_preprocessor, feature_extractor, label_generator, feature_selector]\n",
    "    # [signal_acq, signal_preprocessor, feature_extractor, label_generator, feature_selector, estimator_train, estimator_test]\n",
    "    [signal_acq, signal_preprocessor, feature_extractor, label_generator, feature_selector, estimator_train_val_test]\n",
    ")\n",
    "\n",
    "# We leave it up to the user to handle the final output of the pipeline. \n",
    "out = pipeline.run()\n",
    "\n",
    "# Results\n",
    "# fitted_model = out[0]\n",
    "y_true = out[1]\n",
    "y_pred = out[2]\n",
    "\n",
    "acc = accuracy_score(y_true, y_pred)\n",
    "# f1 = f1_score(y_true, y_pred)\n",
    "\n",
    "print(f\"\\nAccuracy: {acc}\")\n",
    "# print(f\"F1-score: {f1}\")"
   ]
  },
  {
   "cell_type": "markdown",
   "metadata": {},
   "source": [
    "### Phase identification"
   ]
  },
  {
   "cell_type": "code",
   "execution_count": 12,
   "metadata": {},
   "outputs": [
    {
     "name": "stdout",
     "output_type": "stream",
     "text": [
      "Running node Signal Acquisition...\n",
      "- Elapsed time: 0.0 s\n",
      "Running node Signal Preprocessor...\n",
      "- Elapsed time: 0.375 s\n",
      "Running node Feature Extractor...\n"
     ]
    },
    {
     "name": "stderr",
     "output_type": "stream",
     "text": [
      "100%|██████████| 15/15 [00:15<00:00,  1.07s/it]"
     ]
    },
    {
     "name": "stdout",
     "output_type": "stream",
     "text": [
      "- Elapsed time: 15.993 s\n",
      "Running node Label Generator...\n",
      "- Elapsed time: 0.0 s\n",
      "Running node Feature Selector...\n",
      "- Elapsed time: 0.093 s\n",
      "Running node SVC train-val-test...\n",
      "Cross-validation scores: [0.16666667 0.16666667 0.16666667 0.25       0.16666667]\n",
      "- Elapsed time: 0.011 s\n",
      "\n",
      "Accuracy: 0.06666666666666667\n"
     ]
    },
    {
     "name": "stderr",
     "output_type": "stream",
     "text": [
      "\n"
     ]
    }
   ],
   "source": [
    "# Build pipeline with default preprocessing and feature extraction methods\n",
    "\n",
    "from care_for_me.signal_acquisition.signal_acquisition import SignalAcquisition\n",
    "from care_for_me.signal_preprocessor.signal_preprocessor import SignalPreprocessor\n",
    "from care_for_me.feature_extractor.feature_extractor import FeatureExtractor\n",
    "from care_for_me.label_generator.label_generator import LabelGenerator\n",
    "from care_for_me.feature_selector.feature_selector import FeatureSelector\n",
    "from care_for_me.classification.estimator import Estimator\n",
    "from care_for_me.pipeline.pipeline import Pipeline\n",
    "\n",
    "from sklearn.svm import SVC\n",
    "\n",
    "\n",
    "signal_types = [\n",
    "    signals.Signals.ECG,\n",
    "    signals.Signals.EDA\n",
    "]\n",
    "feature_names = [\n",
    "    signals.Features.HR, signals.Features.RMSSD, signals.Features.SDNN,\n",
    "    # signals.Features.HR,\n",
    "    signals.Features.MEAN_SCL, signals.Features.SCR_RATE\n",
    "]\n",
    "\n",
    "labels = os.path.join(WESAD_PATH, \"ANNOTATIONS_PATH\")\n",
    "label_gen = \"phase\"\n",
    "signal_acq = SignalAcquisition(signal_types=signal_types, source_folder=SOURCE_FOLDER)\n",
    "signal_preprocessor = SignalPreprocessor(skip=True, resample_rate=0)\n",
    "feature_extractor = FeatureExtractor()\n",
    "label_generator = LabelGenerator(label_generation_method=label_gen)\n",
    "\n",
    "model = SVC()\n",
    "feature_selector = FeatureSelector(model, feature_names, num_features=3)\n",
    "estimator_train = Estimator(0, model, name=\"SVC training\")\n",
    "estimator_test = Estimator(1, model, name=\"SVC testing\")\n",
    "estimator_train_val_test = Estimator(2, model, name=\"SVC train-val-test\")\n",
    "\n",
    "pipeline = Pipeline()\n",
    "\n",
    "pipeline.generate_nodes_from_layers(\n",
    "    # [signal_acq, signal_preprocessor, feature_extractor]\n",
    "    # [signal_acq, signal_preprocessor, feature_extractor, label_generator, feature_selector]\n",
    "    # [signal_acq, signal_preprocessor, feature_extractor, label_generator, feature_selector, estimator_train, estimator_test]\n",
    "    [signal_acq, signal_preprocessor, feature_extractor, label_generator, feature_selector, estimator_train_val_test]\n",
    ")\n",
    "\n",
    "# We leave it up to the user to handle the final output of the pipeline. \n",
    "out = pipeline.run()\n",
    "\n",
    "# Results\n",
    "# fitted_model = out[0]\n",
    "y_true = out[1]\n",
    "y_pred = out[2]\n",
    "\n",
    "acc = accuracy_score(y_true, y_pred)\n",
    "# f1 = f1_score(y_true, y_pred)\n",
    "\n",
    "print(f\"\\nAccuracy: {acc}\")\n",
    "# print(f\"F1-score: {f1}\")"
   ]
  }
 ],
 "metadata": {
  "kernelspec": {
   "display_name": "Python 3",
   "language": "python",
   "name": "python3"
  },
  "language_info": {
   "codemirror_mode": {
    "name": "ipython",
    "version": 3
   },
   "file_extension": ".py",
   "mimetype": "text/x-python",
   "name": "python",
   "nbconvert_exporter": "python",
   "pygments_lexer": "ipython3",
   "version": "3.12.5"
  }
 },
 "nbformat": 4,
 "nbformat_minor": 2
}
