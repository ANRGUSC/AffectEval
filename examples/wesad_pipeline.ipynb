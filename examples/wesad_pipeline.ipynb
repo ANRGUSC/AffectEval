{
 "cells": [
  {
   "cell_type": "markdown",
   "metadata": {},
   "source": [
    "### An example implementation of the CAREforMe pipeline using the WESAD dataset"
   ]
  },
  {
   "cell_type": "code",
   "execution_count": 2,
   "metadata": {},
   "outputs": [],
   "source": [
    "%load_ext autoreload\n",
    "%autoreload 2\n",
    "\n",
    "import os\n",
    "import sys\n",
    "module_path = os.path.abspath(os.path.join(\"../care_for_me\"))\n",
    "sys.path.insert(0, module_path)\n",
    "module_path = os.path.abspath(os.path.join(\"..\"))\n",
    "sys.path.insert(0, module_path)\n",
    "\n",
    "import numpy as np\n",
    "import pandas as pd\n",
    "import wesad\n",
    "\n",
    "from care_for_me import signals\n",
    "\n",
    "\n",
    "ROOT_DIR = \"C:\\\\Users\\\\zhoux\\\\Desktop\\\\Projects\\\\CAREforMe\"\n",
    "DATA_DIR = os.path.join(ROOT_DIR, \"data\")\n",
    "WESAD_PATH = os.path.join(DATA_DIR, \"WESAD\")\n",
    "METRICS = os.path.join(DATA_DIR, \"metrics\", \"WESAD\")\n",
    "\n",
    "subject_indices = list(range(2, 12)) + list(range(13, 18))\n",
    "SUBJECTS = [str(i) for i in subject_indices]"
   ]
  },
  {
   "cell_type": "code",
   "execution_count": null,
   "metadata": {},
   "outputs": [],
   "source": [
    "# Format data to be compatible with CAREforMe pipeline\n",
    "# Only needs to be run once \n",
    "# Status: COMPLETE, do not re-run\n",
    "wesad.reformat_and_save_data()"
   ]
  },
  {
   "cell_type": "code",
   "execution_count": 3,
   "metadata": {},
   "outputs": [
    {
     "name": "stdout",
     "output_type": "stream",
     "text": [
      "    subject  Base_STAI  TSST_STAI  Medi_1_STAI  Fun_STAI  Medi_2_STAI\n",
      "0         2          0          1            0         0            0\n",
      "1         3          0          1            0         0            0\n",
      "2         4          0          1            1         0            1\n",
      "3         5          0          1            0         1            0\n",
      "4         6          0          1            0         1            0\n",
      "5         7          0          1            0         0            1\n",
      "6         8          0          1            1         0            0\n",
      "7         9          0          1            0         1            0\n",
      "8        10          0          1            0         0            0\n",
      "9        11          0          1            0         0            0\n",
      "10       13          1          1            0         0            1\n",
      "11       14          0          1            0         0            0\n",
      "12       15          1          1            0         0            0\n",
      "13       16          1          1            0         0            0\n",
      "14       17          0          1            0         0            1\n"
     ]
    }
   ],
   "source": [
    "print(wesad.generate_labels(threshold=\"dynamic\"))"
   ]
  },
  {
   "cell_type": "code",
   "execution_count": 13,
   "metadata": {},
   "outputs": [
    {
     "name": "stdout",
     "output_type": "stream",
     "text": [
      "Running node Signal Acquisition...\n",
      "Elapsed time for Signal Acquisition: 0.0\n",
      "Running node Signal Preprocessor...\n",
      "Elapsed time for Signal Preprocessor: 0.3630650043487549\n",
      "Running node Feature Extractor...\n",
      "Elapsed time for Feature Extractor: 0.34568142890930176\n",
      "Running node Feature Selector...\n",
      "Elapsed time for Feature Selector: 0.07001066207885742\n",
      "Running node SVC training...\n",
      "Elapsed time for SVC training: 0.0020003318786621094\n",
      "Running node SVC testing...\n"
     ]
    },
    {
     "ename": "TypeError",
     "evalue": "'NoneType' object is not subscriptable",
     "output_type": "error",
     "traceback": [
      "\u001b[1;31m---------------------------------------------------------------------------\u001b[0m",
      "\u001b[1;31mTypeError\u001b[0m                                 Traceback (most recent call last)",
      "Cell \u001b[1;32mIn[13], line 50\u001b[0m\n\u001b[0;32m     44\u001b[0m pipeline \u001b[38;5;241m=\u001b[39m Pipeline()\n\u001b[0;32m     46\u001b[0m pipeline\u001b[38;5;241m.\u001b[39mgenerate_nodes_from_layers(\n\u001b[0;32m     47\u001b[0m     [signal_acq, signal_preprocessor, feature_extractor, feature_selector, estimator_train, estimator_test]\n\u001b[0;32m     48\u001b[0m )\n\u001b[1;32m---> 50\u001b[0m \u001b[43mpipeline\u001b[49m\u001b[38;5;241;43m.\u001b[39;49m\u001b[43mrun\u001b[49m\u001b[43m(\u001b[49m\u001b[43m)\u001b[49m\n",
      "File \u001b[1;32mc:\\Users\\zhoux\\Desktop\\Projects\\CAREforME\\care_for_me\\pipeline\\pipeline.py:37\u001b[0m, in \u001b[0;36mPipeline.run\u001b[1;34m(self)\u001b[0m\n\u001b[0;32m     35\u001b[0m \u001b[38;5;28mprint\u001b[39m(\u001b[38;5;124mf\u001b[39m\u001b[38;5;124m\"\u001b[39m\u001b[38;5;124mRunning node \u001b[39m\u001b[38;5;132;01m{\u001b[39;00mnode\u001b[38;5;241m.\u001b[39mname\u001b[38;5;132;01m}\u001b[39;00m\u001b[38;5;124m...\u001b[39m\u001b[38;5;124m\"\u001b[39m)\n\u001b[0;32m     36\u001b[0m start \u001b[38;5;241m=\u001b[39m time\u001b[38;5;241m.\u001b[39mtime()\n\u001b[1;32m---> 37\u001b[0m data \u001b[38;5;241m=\u001b[39m \u001b[43mnode\u001b[49m\u001b[38;5;241;43m.\u001b[39;49m\u001b[43mrun\u001b[49m\u001b[43m(\u001b[49m\u001b[43mdata\u001b[49m\u001b[43m)\u001b[49m\n\u001b[0;32m     38\u001b[0m end \u001b[38;5;241m=\u001b[39m time\u001b[38;5;241m.\u001b[39mtime()\n\u001b[0;32m     39\u001b[0m \u001b[38;5;28mprint\u001b[39m(\u001b[38;5;124mf\u001b[39m\u001b[38;5;124m\"\u001b[39m\u001b[38;5;124mElapsed time for \u001b[39m\u001b[38;5;132;01m{\u001b[39;00mnode\u001b[38;5;241m.\u001b[39mname\u001b[38;5;132;01m}\u001b[39;00m\u001b[38;5;124m: \u001b[39m\u001b[38;5;132;01m{\u001b[39;00mend\u001b[38;5;241m-\u001b[39mstart\u001b[38;5;132;01m}\u001b[39;00m\u001b[38;5;124m\"\u001b[39m)\n",
      "File \u001b[1;32mc:\\Users\\zhoux\\Desktop\\Projects\\CAREforME\\care_for_me\\pipeline\\node.py:14\u001b[0m, in \u001b[0;36mNode.run\u001b[1;34m(self, data)\u001b[0m\n\u001b[0;32m     12\u001b[0m \u001b[38;5;28;01mdef\u001b[39;00m \u001b[38;5;21mrun\u001b[39m(\u001b[38;5;28mself\u001b[39m, data):\n\u001b[0;32m     13\u001b[0m     \u001b[38;5;28;01mif\u001b[39;00m \u001b[38;5;28mself\u001b[39m\u001b[38;5;241m.\u001b[39mcheck_inputs(data):\n\u001b[1;32m---> 14\u001b[0m         \u001b[38;5;28;01mreturn\u001b[39;00m \u001b[38;5;28;43mself\u001b[39;49m\u001b[38;5;241;43m.\u001b[39;49m\u001b[43m_layer\u001b[49m\u001b[38;5;241;43m.\u001b[39;49m\u001b[43mrun\u001b[49m\u001b[43m(\u001b[49m\u001b[43mdata\u001b[49m\u001b[43m)\u001b[49m\n",
      "File \u001b[1;32mc:\\Users\\zhoux\\Desktop\\Projects\\CAREforME\\care_for_me\\classification\\estimator.py:72\u001b[0m, in \u001b[0;36mEstimator.run\u001b[1;34m(self, data)\u001b[0m\n\u001b[0;32m     62\u001b[0m \u001b[38;5;28;01mdef\u001b[39;00m \u001b[38;5;21mrun\u001b[39m(\u001b[38;5;28mself\u001b[39m, data):\n\u001b[0;32m     63\u001b[0m \u001b[38;5;250m    \u001b[39m\u001b[38;5;124;03m\"\"\"\u001b[39;00m\n\u001b[0;32m     64\u001b[0m \u001b[38;5;124;03m    Parameters\u001b[39;00m\n\u001b[0;32m     65\u001b[0m \u001b[38;5;124;03m    --------------------\u001b[39;00m\n\u001b[1;32m   (...)\u001b[0m\n\u001b[0;32m     70\u001b[0m \u001b[38;5;124;03m    Fitted estimator if mode=0, predicted labels if mode=1.\u001b[39;00m\n\u001b[0;32m     71\u001b[0m \u001b[38;5;124;03m    \"\"\"\u001b[39;00m\n\u001b[1;32m---> 72\u001b[0m     x \u001b[38;5;241m=\u001b[39m \u001b[43mdata\u001b[49m\u001b[43m[\u001b[49m\u001b[38;5;241;43m0\u001b[39;49m\u001b[43m]\u001b[49m\n\u001b[0;32m     73\u001b[0m     y \u001b[38;5;241m=\u001b[39m data[\u001b[38;5;241m1\u001b[39m]\n\u001b[0;32m     74\u001b[0m     feature_names \u001b[38;5;241m=\u001b[39m data[\u001b[38;5;241m2\u001b[39m]\n",
      "\u001b[1;31mTypeError\u001b[0m: 'NoneType' object is not subscriptable"
     ]
    }
   ],
   "source": [
    "# Build pipeline with default preprocessing and feature extraction methods\n",
    "# Asynchronous directed acyclic graph\n",
    "\n",
    "# from care_for_me import feature_extractor\n",
    "# from care_for_me import signal_acquisition\n",
    "# from care_for_me import signal_preprocessor\n",
    "# from care_for_me import pipeline\n",
    "import biosppy as bp\n",
    "import random\n",
    "\n",
    "from care_for_me.feature_extractor.feature_extractor import FeatureExtractor\n",
    "from care_for_me.signal_acquisition.signal_acquisition import SignalAcquisition\n",
    "from care_for_me.signal_preprocessor.signal_preprocessor import SignalPreprocessor\n",
    "from care_for_me.feature_selector.feature_selector import FeatureSelector\n",
    "from care_for_me.classification.estimator import Estimator\n",
    "from care_for_me.pipeline.pipeline import Node, Pipeline\n",
    "\n",
    "from sklearn.svm import SVC\n",
    "\n",
    "\n",
    "# Change wesad_path according to your local file structure\n",
    "wesad_path = \"C:\\\\Users\\\\zhoux\\\\Desktop\\\\Projects\\\\CAREforMe\\\\data\\\\WESAD\"\n",
    "source_folder = os.path.join(wesad_path, \"formatted\")\n",
    "signal_types = [\n",
    "    signals.Signals.ECG,\n",
    "    # signals.Signals.EDA\n",
    "]\n",
    "feature_names = [\n",
    "    signals.Features.HR, signals.Features.RMSSD, signals.Features.SDNN,\n",
    "    # signals.Features.HR,\n",
    "    signals.Features.MEAN_SCL, signals.Features.SCR_RATE\n",
    "]\n",
    "\n",
    "signal_acq = SignalAcquisition(source_folder=source_folder, signal_types=signal_types)\n",
    "signal_preprocessor = SignalPreprocessor(skip=True, resample_rate=100)\n",
    "feature_extractor = FeatureExtractor()\n",
    "\n",
    "labels = [random.choice([0, 1]) for _ in range(len(SUBJECTS))]\n",
    "model = SVC()\n",
    "feature_selector = FeatureSelector(model, feature_names, labels, num_features=3)\n",
    "estimator_train = Estimator(labels, 0, model, name=\"SVC training\")\n",
    "estimator_test = Estimator(labels, 1, model, name=\"SVC testing\")\n",
    "\n",
    "pipeline = Pipeline()\n",
    "\n",
    "pipeline.generate_nodes_from_layers(\n",
    "    [signal_acq, signal_preprocessor, feature_extractor, feature_selector, estimator_train, estimator_test]\n",
    ")\n",
    "\n",
    "pipeline.run()"
   ]
  }
 ],
 "metadata": {
  "kernelspec": {
   "display_name": "Python 3",
   "language": "python",
   "name": "python3"
  },
  "language_info": {
   "codemirror_mode": {
    "name": "ipython",
    "version": 3
   },
   "file_extension": ".py",
   "mimetype": "text/x-python",
   "name": "python",
   "nbconvert_exporter": "python",
   "pygments_lexer": "ipython3",
   "version": "3.10.9"
  }
 },
 "nbformat": 4,
 "nbformat_minor": 2
}
