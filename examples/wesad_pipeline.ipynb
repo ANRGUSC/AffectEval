{
 "cells": [
  {
   "cell_type": "markdown",
   "metadata": {},
   "source": [
    "### An example implementation of the CAREforMe pipeline using the WESAD dataset"
   ]
  },
  {
   "cell_type": "code",
   "execution_count": 1,
   "metadata": {},
   "outputs": [],
   "source": [
    "%load_ext autoreload\n",
    "%autoreload 2\n",
    "\n",
    "import os\n",
    "import sys\n",
    "module_path = os.path.abspath(os.path.join(\"../care_for_me\"))\n",
    "sys.path.insert(0, module_path)\n",
    "module_path = os.path.abspath(os.path.join(\"..\"))\n",
    "sys.path.insert(0, module_path)\n",
    "\n",
    "import numpy as np\n",
    "import pandas as pd\n",
    "import wesad\n",
    "\n",
    "from care_for_me import signals\n",
    "\n",
    "subject_indices = list(range(2, 12)) + list(range(13, 18))\n",
    "SUBJECTS = [str(i) for i in subject_indices]\n",
    "\n",
    "# NOTE: Change ROOT_DIR according to your own file structure. This will be the only place you will need to do this.\n",
    "ROOT_DIR = \"C://Users//zhoux//Desktop//Projects//CAREforME\"\n",
    "DATA_DIR = os.path.join(ROOT_DIR, \"data\")\n",
    "WESAD_PATH = os.path.join(DATA_DIR, \"WESAD\")\n",
    "SOURCE_FOLDER = os.path.join(WESAD_PATH, \"formatted\")\n",
    "METRICS = os.path.join(DATA_DIR, \"metrics\", \"WESAD\")"
   ]
  },
  {
   "cell_type": "code",
   "execution_count": 9,
   "metadata": {},
   "outputs": [],
   "source": [
    "# Format data to be compatible with CAREforMe pipeline\n",
    "# Only needs to be run once locally \n",
    "# Status: COMPLETE, do not re-run\n",
    "import glob\n",
    "import os\n",
    "\n",
    "\n",
    "# wesad.reformat_and_save_data(WESAD_PATH)\n",
    "\n",
    "# Rename Medi_1 and Medi_2 files to Medi1 and Medi2\n",
    "files_to_rename = glob.glob(os.path.join(SOURCE_FOLDER, \"*/*Medi_*.csv\"))\n",
    "for file in files_to_rename:\n",
    "    file_name = file.split(\"_\")\n",
    "    new_name = f\"{file_name[0]}_{file_name[1]}{file_name[2]}_{file_name[3]}\"\n",
    "    os.rename(file, new_name)"
   ]
  },
  {
   "cell_type": "code",
   "execution_count": 2,
   "metadata": {},
   "outputs": [
    {
     "name": "stdout",
     "output_type": "stream",
     "text": [
      "    subject  Base  TSST  Medi1  Fun  Medi2\n",
      "0         2     0     1      0    0      0\n",
      "1         3     0     1      0    0      0\n",
      "2         4     0     1      1    0      1\n",
      "3         5     0     1      0    1      0\n",
      "4         6     0     1      0    1      0\n",
      "5         7     0     1      0    0      1\n",
      "6         8     0     1      1    0      0\n",
      "7         9     0     1      0    1      0\n",
      "8        10     0     1      0    0      0\n",
      "9        11     0     1      0    0      0\n",
      "10       13     1     1      0    0      1\n",
      "11       14     0     1      0    0      0\n",
      "12       15     1     1      0    0      0\n",
      "13       16     1     1      0    0      0\n",
      "14       17     0     1      0    0      1\n"
     ]
    }
   ],
   "source": [
    "print(wesad.generate_labels(WESAD_PATH, threshold=\"dynamic\"))"
   ]
  },
  {
   "cell_type": "code",
   "execution_count": null,
   "metadata": {},
   "outputs": [],
   "source": [
    "# Build pipeline with default preprocessing and feature extraction methods\n",
    "# Asynchronous directed acyclic graph\n",
    "\n",
    "# from care_for_me import feature_extractor\n",
    "# from care_for_me import signal_acquisition\n",
    "# from care_for_me import signal_preprocessor\n",
    "# from care_for_me import pipeline\n",
    "import random\n",
    "\n",
    "from care_for_me.feature_extractor.feature_extractor import FeatureExtractor\n",
    "from care_for_me.signal_acquisition.signal_acquisition import SignalAcquisition\n",
    "from care_for_me.signal_preprocessor.signal_preprocessor import SignalPreprocessor\n",
    "from care_for_me.feature_selector.feature_selector import FeatureSelector\n",
    "from care_for_me.classification.estimator import Estimator\n",
    "from care_for_me.pipeline.pipeline import Node, Pipeline\n",
    "\n",
    "from sklearn.svm import SVC\n",
    "\n",
    "# TODO: WESAD data includes phases labeled Medi_1 and Medi_2. Currently, the filename parsing \n",
    "# treats these two phases as the same; need to fix.\n",
    "\n",
    "signal_types = [\n",
    "    signals.Signals.ECG,\n",
    "    signals.Signals.EDA\n",
    "]\n",
    "feature_names = [\n",
    "    signals.Features.HR, signals.Features.RMSSD, signals.Features.SDNN,\n",
    "    # signals.Features.HR,\n",
    "    signals.Features.MEAN_SCL, signals.Features.SCR_RATE\n",
    "]\n",
    "\n",
    "labels = os.path.join(WESAD_PATH, )\n",
    "signal_acq = SignalAcquisition(signal_types=signal_types, source_folder=SOURCE_FOLDER)\n",
    "signal_preprocessor = SignalPreprocessor(skip=True, resample_rate=100)\n",
    "feature_extractor = FeatureExtractor()\n",
    "\n",
    "# TODO: Generate correct labels based on features\n",
    "labels = [random.choice([0, 1]) for _ in range(len(wesad.SUBJECTS))]\n",
    "model = SVC()\n",
    "feature_selector = FeatureSelector(model, feature_names, labels, num_features=3)\n",
    "estimator_train = Estimator(labels, 0, model, name=\"SVC training\")\n",
    "estimator_test = Estimator(labels, 1, model, name=\"SVC testing\")\n",
    "estimator_train_val_test = Estimator(labels, 2, model, name=\"SVC train-val-test\")\n",
    "\n",
    "pipeline = Pipeline()\n",
    "\n",
    "pipeline.generate_nodes_from_layers(\n",
    "    # [signal_acq, signal_preprocessor, feature_extractor]\n",
    "    [signal_acq, signal_preprocessor, feature_extractor, feature_selector]\n",
    "    # [signal_acq, signal_preprocessor, feature_extractor, feature_selector, estimator_train, estimator_test]\n",
    "    # [signal_acq, signal_preprocessor, feature_extractor, feature_selector, estimator_train_val_test]\n",
    ")\n",
    "\n",
    "# We leave it up to the user to handle the final output of the pipeline. \n",
    "out = pipeline.run()\n",
    "# fitted_model = out[0]\n",
    "# y_true = out[1]\n",
    "# y_pred = out[2]"
   ]
  }
 ],
 "metadata": {
  "kernelspec": {
   "display_name": "Python 3",
   "language": "python",
   "name": "python3"
  },
  "language_info": {
   "codemirror_mode": {
    "name": "ipython",
    "version": 3
   },
   "file_extension": ".py",
   "mimetype": "text/x-python",
   "name": "python",
   "nbconvert_exporter": "python",
   "pygments_lexer": "ipython3",
   "version": "3.10.9"
  }
 },
 "nbformat": 4,
 "nbformat_minor": 2
}
