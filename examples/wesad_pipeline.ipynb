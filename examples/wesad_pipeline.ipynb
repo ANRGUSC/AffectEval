{
 "cells": [
  {
   "cell_type": "markdown",
   "metadata": {},
   "source": [
    "### An example implementation of the CAREforMe pipeline using the WESAD dataset"
   ]
  },
  {
   "cell_type": "code",
   "execution_count": 1,
   "metadata": {},
   "outputs": [],
   "source": [
    "%load_ext autoreload\n",
    "%autoreload 2\n",
    "\n",
    "import os\n",
    "import sys\n",
    "module_path = os.path.abspath(os.path.join(\"../care_for_me\"))\n",
    "sys.path.insert(0, module_path)\n",
    "module_path = os.path.abspath(os.path.join(\"..\"))\n",
    "sys.path.insert(0, module_path)\n",
    "\n",
    "import numpy as np\n",
    "import pandas as pd\n",
    "import wesad\n",
    "\n",
    "from care_for_me import signals\n",
    "\n",
    "\n",
    "ROOT_DIR = \"C:\\\\Users\\\\zhoux\\\\Desktop\\\\Projects\\\\CAREforMe\"\n",
    "DATA_DIR = os.path.join(ROOT_DIR, \"data\")\n",
    "WESAD_PATH = os.path.join(DATA_DIR, \"WESAD\")\n",
    "METRICS = os.path.join(DATA_DIR, \"metrics\", \"WESAD\")\n",
    "\n",
    "subject_indices = list(range(2, 12)) + list(range(13, 18))\n",
    "SUBJECTS = [str(i) for i in subject_indices]"
   ]
  },
  {
   "cell_type": "code",
   "execution_count": null,
   "metadata": {},
   "outputs": [],
   "source": [
    "# Format data to be compatible with CAREforMe pipeline\n",
    "# Only needs to be run once \n",
    "# Status: COMPLETE, do not re-run\n",
    "wesad.reformat_and_save_data()"
   ]
  },
  {
   "cell_type": "code",
   "execution_count": 53,
   "metadata": {},
   "outputs": [
    {
     "name": "stdout",
     "output_type": "stream",
     "text": [
      "Running node Signal Acquisition...\n",
      "Elapsed time for Signal Acquisition: 0.0\n",
      "Running node Signal Preprocessor...\n",
      "Elapsed time for Signal Preprocessor: 5.744026184082031\n",
      "Running node Feature Extractor...\n",
      "(0,)\n"
     ]
    },
    {
     "ename": "ValueError",
     "evalue": "The length of the input vector x must be greater than padlen, which is 18.",
     "output_type": "error",
     "traceback": [
      "\u001b[1;31m---------------------------------------------------------------------------\u001b[0m",
      "\u001b[1;31mValueError\u001b[0m                                Traceback (most recent call last)",
      "Cell \u001b[1;32mIn[53], line 45\u001b[0m\n\u001b[0;32m     39\u001b[0m pipeline \u001b[38;5;241m=\u001b[39m Pipeline()\n\u001b[0;32m     41\u001b[0m pipeline\u001b[38;5;241m.\u001b[39mgenerate_nodes_from_layers(\n\u001b[0;32m     42\u001b[0m     [signal_acq, signal_preprocessor, feature_extractor, feature_selector]\n\u001b[0;32m     43\u001b[0m )\n\u001b[1;32m---> 45\u001b[0m \u001b[43mpipeline\u001b[49m\u001b[38;5;241;43m.\u001b[39;49m\u001b[43mrun\u001b[49m\u001b[43m(\u001b[49m\u001b[43m)\u001b[49m\n",
      "File \u001b[1;32mc:\\Users\\zhoux\\Desktop\\Projects\\CAREforME\\care_for_me\\pipeline\\pipeline.py:37\u001b[0m, in \u001b[0;36mPipeline.run\u001b[1;34m(self)\u001b[0m\n\u001b[0;32m     35\u001b[0m \u001b[38;5;28mprint\u001b[39m(\u001b[38;5;124mf\u001b[39m\u001b[38;5;124m\"\u001b[39m\u001b[38;5;124mRunning node \u001b[39m\u001b[38;5;132;01m{\u001b[39;00mnode\u001b[38;5;241m.\u001b[39mname\u001b[38;5;132;01m}\u001b[39;00m\u001b[38;5;124m...\u001b[39m\u001b[38;5;124m\"\u001b[39m)\n\u001b[0;32m     36\u001b[0m start \u001b[38;5;241m=\u001b[39m time\u001b[38;5;241m.\u001b[39mtime()\n\u001b[1;32m---> 37\u001b[0m data \u001b[38;5;241m=\u001b[39m \u001b[43mnode\u001b[49m\u001b[38;5;241;43m.\u001b[39;49m\u001b[43mrun\u001b[49m\u001b[43m(\u001b[49m\u001b[43mdata\u001b[49m\u001b[43m)\u001b[49m\n\u001b[0;32m     38\u001b[0m end \u001b[38;5;241m=\u001b[39m time\u001b[38;5;241m.\u001b[39mtime()\n\u001b[0;32m     39\u001b[0m \u001b[38;5;28mprint\u001b[39m(\u001b[38;5;124mf\u001b[39m\u001b[38;5;124m\"\u001b[39m\u001b[38;5;124mElapsed time for \u001b[39m\u001b[38;5;132;01m{\u001b[39;00mnode\u001b[38;5;241m.\u001b[39mname\u001b[38;5;132;01m}\u001b[39;00m\u001b[38;5;124m: \u001b[39m\u001b[38;5;132;01m{\u001b[39;00mend\u001b[38;5;241m-\u001b[39mstart\u001b[38;5;132;01m}\u001b[39;00m\u001b[38;5;124m\"\u001b[39m)\n",
      "File \u001b[1;32mc:\\Users\\zhoux\\Desktop\\Projects\\CAREforME\\care_for_me\\pipeline\\node.py:14\u001b[0m, in \u001b[0;36mNode.run\u001b[1;34m(self, data)\u001b[0m\n\u001b[0;32m     12\u001b[0m \u001b[38;5;28;01mdef\u001b[39;00m \u001b[38;5;21mrun\u001b[39m(\u001b[38;5;28mself\u001b[39m, data):\n\u001b[0;32m     13\u001b[0m     \u001b[38;5;28;01mif\u001b[39;00m \u001b[38;5;28mself\u001b[39m\u001b[38;5;241m.\u001b[39mcheck_inputs(data):\n\u001b[1;32m---> 14\u001b[0m         \u001b[38;5;28;01mreturn\u001b[39;00m \u001b[38;5;28;43mself\u001b[39;49m\u001b[38;5;241;43m.\u001b[39;49m\u001b[43m_layer\u001b[49m\u001b[38;5;241;43m.\u001b[39;49m\u001b[43mrun\u001b[49m\u001b[43m(\u001b[49m\u001b[43mdata\u001b[49m\u001b[43m)\u001b[49m\n",
      "File \u001b[1;32mc:\\Users\\zhoux\\Desktop\\Projects\\CAREforME\\care_for_me\\feature_extractor\\feature_extractor.py:84\u001b[0m, in \u001b[0;36mFeatureExtractor.run\u001b[1;34m(self, data)\u001b[0m\n\u001b[0;32m     82\u001b[0m     \u001b[38;5;28;01mfor\u001b[39;00m feature \u001b[38;5;129;01min\u001b[39;00m features:\n\u001b[0;32m     83\u001b[0m         method \u001b[38;5;241m=\u001b[39m \u001b[38;5;28mself\u001b[39m\u001b[38;5;241m.\u001b[39m_feature_extraction_methods[signal_type][feature]\n\u001b[1;32m---> 84\u001b[0m         extracted \u001b[38;5;241m=\u001b[39m \u001b[43mmethod\u001b[49m\u001b[43m(\u001b[49m\u001b[43msignal\u001b[49m\u001b[43m)\u001b[49m\n\u001b[0;32m     85\u001b[0m         out[feature] \u001b[38;5;241m=\u001b[39m extracted\n\u001b[0;32m     86\u001b[0m out \u001b[38;5;241m=\u001b[39m pd\u001b[38;5;241m.\u001b[39mDataFrame(out)\n",
      "File \u001b[1;32mc:\\Users\\zhoux\\Desktop\\Projects\\CAREforME\\care_for_me\\feature_extractor\\feature_extractor.py:149\u001b[0m, in \u001b[0;36mFeatureExtractor.extract_hr\u001b[1;34m(self, signal)\u001b[0m\n\u001b[0;32m    148\u001b[0m \u001b[38;5;28;01mdef\u001b[39;00m \u001b[38;5;21mextract_hr\u001b[39m(\u001b[38;5;28mself\u001b[39m, signal):\n\u001b[1;32m--> 149\u001b[0m     hr, _, _ \u001b[38;5;241m=\u001b[39m \u001b[38;5;28;43mself\u001b[39;49m\u001b[38;5;241;43m.\u001b[39;49m\u001b[43mextract_ecg_features_pyhrv\u001b[49m\u001b[43m(\u001b[49m\u001b[43msignal\u001b[49m\u001b[43m)\u001b[49m\n\u001b[0;32m    150\u001b[0m     \u001b[38;5;28;01mreturn\u001b[39;00m hr\n",
      "File \u001b[1;32mc:\\Users\\zhoux\\Desktop\\Projects\\CAREforME\\care_for_me\\feature_extractor\\feature_extractor.py:126\u001b[0m, in \u001b[0;36mFeatureExtractor.extract_ecg_features_pyhrv\u001b[1;34m(self, signal)\u001b[0m\n\u001b[0;32m    124\u001b[0m segment \u001b[38;5;241m=\u001b[39m signal[start:stop]\n\u001b[0;32m    125\u001b[0m \u001b[38;5;28mprint\u001b[39m(segment\u001b[38;5;241m.\u001b[39mshape)\n\u001b[1;32m--> 126\u001b[0m segment, info \u001b[38;5;241m=\u001b[39m \u001b[43mnk\u001b[49m\u001b[38;5;241;43m.\u001b[39;49m\u001b[43mecg_process\u001b[49m\u001b[43m(\u001b[49m\u001b[43msegment\u001b[49m\u001b[43m,\u001b[49m\u001b[43m \u001b[49m\u001b[43msampling_rate\u001b[49m\u001b[38;5;241;43m=\u001b[39;49m\u001b[43mfs\u001b[49m\u001b[43m)\u001b[49m\n\u001b[0;32m    127\u001b[0m segment \u001b[38;5;241m=\u001b[39m segment[\u001b[38;5;124m\"\u001b[39m\u001b[38;5;124mECG_Clean\u001b[39m\u001b[38;5;124m\"\u001b[39m]\n\u001b[0;32m    128\u001b[0m t, filtered_signal, rpeaks, _, _, _, bpm \u001b[38;5;241m=\u001b[39m bp\u001b[38;5;241m.\u001b[39msignals\u001b[38;5;241m.\u001b[39mecg\u001b[38;5;241m.\u001b[39mecg(signal\u001b[38;5;241m=\u001b[39msegment, sampling_rate\u001b[38;5;241m=\u001b[39mfs, show\u001b[38;5;241m=\u001b[39m\u001b[38;5;28;01mFalse\u001b[39;00m)\n",
      "File \u001b[1;32mc:\\Users\\zhoux\\AppData\\Local\\Programs\\Python\\Python310\\lib\\site-packages\\neurokit2\\ecg\\ecg_process.py:95\u001b[0m, in \u001b[0;36mecg_process\u001b[1;34m(ecg_signal, sampling_rate, method)\u001b[0m\n\u001b[0;32m     93\u001b[0m \u001b[38;5;66;03m# Sanitize and clean input\u001b[39;00m\n\u001b[0;32m     94\u001b[0m ecg_signal \u001b[38;5;241m=\u001b[39m signal_sanitize(ecg_signal)\n\u001b[1;32m---> 95\u001b[0m ecg_cleaned \u001b[38;5;241m=\u001b[39m \u001b[43mecg_clean\u001b[49m\u001b[43m(\u001b[49m\u001b[43mecg_signal\u001b[49m\u001b[43m,\u001b[49m\u001b[43m \u001b[49m\u001b[43msampling_rate\u001b[49m\u001b[38;5;241;43m=\u001b[39;49m\u001b[43msampling_rate\u001b[49m\u001b[43m,\u001b[49m\u001b[43m \u001b[49m\u001b[43mmethod\u001b[49m\u001b[38;5;241;43m=\u001b[39;49m\u001b[43mmethod\u001b[49m\u001b[43m)\u001b[49m\n\u001b[0;32m     97\u001b[0m \u001b[38;5;66;03m# Detect R-peaks\u001b[39;00m\n\u001b[0;32m     98\u001b[0m instant_peaks, info \u001b[38;5;241m=\u001b[39m ecg_peaks(\n\u001b[0;32m     99\u001b[0m     ecg_cleaned\u001b[38;5;241m=\u001b[39mecg_cleaned,\n\u001b[0;32m    100\u001b[0m     sampling_rate\u001b[38;5;241m=\u001b[39msampling_rate,\n\u001b[0;32m    101\u001b[0m     method\u001b[38;5;241m=\u001b[39mmethod,\n\u001b[0;32m    102\u001b[0m     correct_artifacts\u001b[38;5;241m=\u001b[39m\u001b[38;5;28;01mTrue\u001b[39;00m,\n\u001b[0;32m    103\u001b[0m )\n",
      "File \u001b[1;32mc:\\Users\\zhoux\\AppData\\Local\\Programs\\Python\\Python310\\lib\\site-packages\\neurokit2\\ecg\\ecg_clean.py:110\u001b[0m, in \u001b[0;36mecg_clean\u001b[1;34m(ecg_signal, sampling_rate, method, **kwargs)\u001b[0m\n\u001b[0;32m    108\u001b[0m method \u001b[38;5;241m=\u001b[39m method\u001b[38;5;241m.\u001b[39mlower()  \u001b[38;5;66;03m# remove capitalised letters\u001b[39;00m\n\u001b[0;32m    109\u001b[0m \u001b[38;5;28;01mif\u001b[39;00m method \u001b[38;5;129;01min\u001b[39;00m [\u001b[38;5;124m\"\u001b[39m\u001b[38;5;124mnk\u001b[39m\u001b[38;5;124m\"\u001b[39m, \u001b[38;5;124m\"\u001b[39m\u001b[38;5;124mnk2\u001b[39m\u001b[38;5;124m\"\u001b[39m, \u001b[38;5;124m\"\u001b[39m\u001b[38;5;124mneurokit\u001b[39m\u001b[38;5;124m\"\u001b[39m, \u001b[38;5;124m\"\u001b[39m\u001b[38;5;124mneurokit2\u001b[39m\u001b[38;5;124m\"\u001b[39m]:\n\u001b[1;32m--> 110\u001b[0m     clean \u001b[38;5;241m=\u001b[39m _ecg_clean_nk(ecg_signal, sampling_rate, \u001b[38;5;241m*\u001b[39m\u001b[38;5;241m*\u001b[39mkwargs)\n\u001b[0;32m    111\u001b[0m \u001b[38;5;28;01melif\u001b[39;00m method \u001b[38;5;129;01min\u001b[39;00m [\u001b[38;5;124m\"\u001b[39m\u001b[38;5;124mbiosppy\u001b[39m\u001b[38;5;124m\"\u001b[39m, \u001b[38;5;124m\"\u001b[39m\u001b[38;5;124mgamboa2008\u001b[39m\u001b[38;5;124m\"\u001b[39m]:\n\u001b[0;32m    112\u001b[0m     clean \u001b[38;5;241m=\u001b[39m _ecg_clean_biosppy(ecg_signal, sampling_rate)\n",
      "File \u001b[1;32mc:\\Users\\zhoux\\AppData\\Local\\Programs\\Python\\Python310\\lib\\site-packages\\neurokit2\\ecg\\ecg_clean.py:163\u001b[0m, in \u001b[0;36m_ecg_clean_nk\u001b[1;34m(ecg_signal, sampling_rate, **kwargs)\u001b[0m\n\u001b[0;32m    161\u001b[0m \u001b[38;5;28;01mdef\u001b[39;00m \u001b[38;5;21m_ecg_clean_nk\u001b[39m(ecg_signal, sampling_rate\u001b[38;5;241m=\u001b[39m\u001b[38;5;241m1000\u001b[39m, \u001b[38;5;241m*\u001b[39m\u001b[38;5;241m*\u001b[39mkwargs):\n\u001b[0;32m    162\u001b[0m     \u001b[38;5;66;03m# Remove slow drift and dc offset with highpass Butterworth.\u001b[39;00m\n\u001b[1;32m--> 163\u001b[0m     clean \u001b[38;5;241m=\u001b[39m \u001b[43msignal_filter\u001b[49m\u001b[43m(\u001b[49m\n\u001b[0;32m    164\u001b[0m \u001b[43m        \u001b[49m\u001b[43msignal\u001b[49m\u001b[38;5;241;43m=\u001b[39;49m\u001b[43mecg_signal\u001b[49m\u001b[43m,\u001b[49m\n\u001b[0;32m    165\u001b[0m \u001b[43m        \u001b[49m\u001b[43msampling_rate\u001b[49m\u001b[38;5;241;43m=\u001b[39;49m\u001b[43msampling_rate\u001b[49m\u001b[43m,\u001b[49m\n\u001b[0;32m    166\u001b[0m \u001b[43m        \u001b[49m\u001b[43mlowcut\u001b[49m\u001b[38;5;241;43m=\u001b[39;49m\u001b[38;5;241;43m0.5\u001b[39;49m\u001b[43m,\u001b[49m\n\u001b[0;32m    167\u001b[0m \u001b[43m        \u001b[49m\u001b[43mmethod\u001b[49m\u001b[38;5;241;43m=\u001b[39;49m\u001b[38;5;124;43m\"\u001b[39;49m\u001b[38;5;124;43mbutterworth\u001b[39;49m\u001b[38;5;124;43m\"\u001b[39;49m\u001b[43m,\u001b[49m\n\u001b[0;32m    168\u001b[0m \u001b[43m        \u001b[49m\u001b[43morder\u001b[49m\u001b[38;5;241;43m=\u001b[39;49m\u001b[38;5;241;43m5\u001b[39;49m\u001b[43m,\u001b[49m\n\u001b[0;32m    169\u001b[0m \u001b[43m    \u001b[49m\u001b[43m)\u001b[49m\n\u001b[0;32m    171\u001b[0m     clean \u001b[38;5;241m=\u001b[39m signal_filter(\n\u001b[0;32m    172\u001b[0m         signal\u001b[38;5;241m=\u001b[39mclean, sampling_rate\u001b[38;5;241m=\u001b[39msampling_rate, method\u001b[38;5;241m=\u001b[39m\u001b[38;5;124m\"\u001b[39m\u001b[38;5;124mpowerline\u001b[39m\u001b[38;5;124m\"\u001b[39m, \u001b[38;5;241m*\u001b[39m\u001b[38;5;241m*\u001b[39mkwargs\n\u001b[0;32m    173\u001b[0m     )\n\u001b[0;32m    174\u001b[0m     \u001b[38;5;28;01mreturn\u001b[39;00m clean\n",
      "File \u001b[1;32mc:\\Users\\zhoux\\AppData\\Local\\Programs\\Python\\Python310\\lib\\site-packages\\neurokit2\\signal\\signal_filter.py:160\u001b[0m, in \u001b[0;36msignal_filter\u001b[1;34m(signal, sampling_rate, lowcut, highcut, method, order, window_size, powerline, show)\u001b[0m\n\u001b[0;32m    157\u001b[0m     \u001b[38;5;28;01mraise\u001b[39;00m \u001b[38;5;167;01mValueError\u001b[39;00m(\u001b[38;5;124m\"\u001b[39m\u001b[38;5;124mNeuroKit error: signal_filter(): you need to specify a \u001b[39m\u001b[38;5;124m'\u001b[39m\u001b[38;5;124mlowcut\u001b[39m\u001b[38;5;124m'\u001b[39m\u001b[38;5;124m or a \u001b[39m\u001b[38;5;124m'\u001b[39m\u001b[38;5;124mhighcut\u001b[39m\u001b[38;5;124m'\u001b[39m\u001b[38;5;124m.\u001b[39m\u001b[38;5;124m\"\u001b[39m)\n\u001b[0;32m    159\u001b[0m \u001b[38;5;28;01mif\u001b[39;00m method \u001b[38;5;129;01min\u001b[39;00m [\u001b[38;5;124m\"\u001b[39m\u001b[38;5;124mbutter\u001b[39m\u001b[38;5;124m\"\u001b[39m, \u001b[38;5;124m\"\u001b[39m\u001b[38;5;124mbutterworth\u001b[39m\u001b[38;5;124m\"\u001b[39m]:\n\u001b[1;32m--> 160\u001b[0m     filtered \u001b[38;5;241m=\u001b[39m \u001b[43m_signal_filter_butterworth\u001b[49m\u001b[43m(\u001b[49m\u001b[43msignal_sanitized\u001b[49m\u001b[43m,\u001b[49m\u001b[43m \u001b[49m\u001b[43msampling_rate\u001b[49m\u001b[43m,\u001b[49m\u001b[43m \u001b[49m\u001b[43mlowcut\u001b[49m\u001b[43m,\u001b[49m\u001b[43m \u001b[49m\u001b[43mhighcut\u001b[49m\u001b[43m,\u001b[49m\u001b[43m \u001b[49m\u001b[43morder\u001b[49m\u001b[43m)\u001b[49m\n\u001b[0;32m    161\u001b[0m \u001b[38;5;28;01melif\u001b[39;00m method \u001b[38;5;129;01min\u001b[39;00m [\u001b[38;5;124m\"\u001b[39m\u001b[38;5;124mbutter_ba\u001b[39m\u001b[38;5;124m\"\u001b[39m, \u001b[38;5;124m\"\u001b[39m\u001b[38;5;124mbutterworth_ba\u001b[39m\u001b[38;5;124m\"\u001b[39m]:\n\u001b[0;32m    162\u001b[0m     filtered \u001b[38;5;241m=\u001b[39m _signal_filter_butterworth_ba(signal_sanitized, sampling_rate, lowcut, highcut, order)\n",
      "File \u001b[1;32mc:\\Users\\zhoux\\AppData\\Local\\Programs\\Python\\Python310\\lib\\site-packages\\neurokit2\\signal\\signal_filter.py:249\u001b[0m, in \u001b[0;36m_signal_filter_butterworth\u001b[1;34m(signal, sampling_rate, lowcut, highcut, order)\u001b[0m\n\u001b[0;32m    247\u001b[0m freqs, filter_type \u001b[38;5;241m=\u001b[39m _signal_filter_sanitize(lowcut\u001b[38;5;241m=\u001b[39mlowcut, highcut\u001b[38;5;241m=\u001b[39mhighcut, sampling_rate\u001b[38;5;241m=\u001b[39msampling_rate)\n\u001b[0;32m    248\u001b[0m sos \u001b[38;5;241m=\u001b[39m scipy\u001b[38;5;241m.\u001b[39msignal\u001b[38;5;241m.\u001b[39mbutter(order, freqs, btype\u001b[38;5;241m=\u001b[39mfilter_type, output\u001b[38;5;241m=\u001b[39m\u001b[38;5;124m\"\u001b[39m\u001b[38;5;124msos\u001b[39m\u001b[38;5;124m\"\u001b[39m, fs\u001b[38;5;241m=\u001b[39msampling_rate)\n\u001b[1;32m--> 249\u001b[0m filtered \u001b[38;5;241m=\u001b[39m \u001b[43mscipy\u001b[49m\u001b[38;5;241;43m.\u001b[39;49m\u001b[43msignal\u001b[49m\u001b[38;5;241;43m.\u001b[39;49m\u001b[43msosfiltfilt\u001b[49m\u001b[43m(\u001b[49m\u001b[43msos\u001b[49m\u001b[43m,\u001b[49m\u001b[43m \u001b[49m\u001b[43msignal\u001b[49m\u001b[43m)\u001b[49m\n\u001b[0;32m    250\u001b[0m \u001b[38;5;28;01mreturn\u001b[39;00m filtered\n",
      "File \u001b[1;32mc:\\Users\\zhoux\\AppData\\Local\\Programs\\Python\\Python310\\lib\\site-packages\\scipy\\signal\\_signaltools.py:4411\u001b[0m, in \u001b[0;36msosfiltfilt\u001b[1;34m(sos, x, axis, padtype, padlen)\u001b[0m\n\u001b[0;32m   4409\u001b[0m ntaps \u001b[38;5;241m=\u001b[39m \u001b[38;5;241m2\u001b[39m \u001b[38;5;241m*\u001b[39m n_sections \u001b[38;5;241m+\u001b[39m \u001b[38;5;241m1\u001b[39m\n\u001b[0;32m   4410\u001b[0m ntaps \u001b[38;5;241m-\u001b[39m\u001b[38;5;241m=\u001b[39m \u001b[38;5;28mmin\u001b[39m((sos[:, \u001b[38;5;241m2\u001b[39m] \u001b[38;5;241m==\u001b[39m \u001b[38;5;241m0\u001b[39m)\u001b[38;5;241m.\u001b[39msum(), (sos[:, \u001b[38;5;241m5\u001b[39m] \u001b[38;5;241m==\u001b[39m \u001b[38;5;241m0\u001b[39m)\u001b[38;5;241m.\u001b[39msum())\n\u001b[1;32m-> 4411\u001b[0m edge, ext \u001b[38;5;241m=\u001b[39m \u001b[43m_validate_pad\u001b[49m\u001b[43m(\u001b[49m\u001b[43mpadtype\u001b[49m\u001b[43m,\u001b[49m\u001b[43m \u001b[49m\u001b[43mpadlen\u001b[49m\u001b[43m,\u001b[49m\u001b[43m \u001b[49m\u001b[43mx\u001b[49m\u001b[43m,\u001b[49m\u001b[43m \u001b[49m\u001b[43maxis\u001b[49m\u001b[43m,\u001b[49m\n\u001b[0;32m   4412\u001b[0m \u001b[43m                          \u001b[49m\u001b[43mntaps\u001b[49m\u001b[38;5;241;43m=\u001b[39;49m\u001b[43mntaps\u001b[49m\u001b[43m)\u001b[49m\n\u001b[0;32m   4414\u001b[0m \u001b[38;5;66;03m# These steps follow the same form as filtfilt with modifications\u001b[39;00m\n\u001b[0;32m   4415\u001b[0m zi \u001b[38;5;241m=\u001b[39m sosfilt_zi(sos)  \u001b[38;5;66;03m# shape (n_sections, 2) --> (n_sections, ..., 2, ...)\u001b[39;00m\n",
      "File \u001b[1;32mc:\\Users\\zhoux\\AppData\\Local\\Programs\\Python\\Python310\\lib\\site-packages\\scipy\\signal\\_signaltools.py:4180\u001b[0m, in \u001b[0;36m_validate_pad\u001b[1;34m(padtype, padlen, x, axis, ntaps)\u001b[0m\n\u001b[0;32m   4178\u001b[0m \u001b[38;5;66;03m# x's 'axis' dimension must be bigger than edge.\u001b[39;00m\n\u001b[0;32m   4179\u001b[0m \u001b[38;5;28;01mif\u001b[39;00m x\u001b[38;5;241m.\u001b[39mshape[axis] \u001b[38;5;241m<\u001b[39m\u001b[38;5;241m=\u001b[39m edge:\n\u001b[1;32m-> 4180\u001b[0m     \u001b[38;5;28;01mraise\u001b[39;00m \u001b[38;5;167;01mValueError\u001b[39;00m(\u001b[38;5;124m\"\u001b[39m\u001b[38;5;124mThe length of the input vector x must be greater \u001b[39m\u001b[38;5;124m\"\u001b[39m\n\u001b[0;32m   4181\u001b[0m                      \u001b[38;5;124m\"\u001b[39m\u001b[38;5;124mthan padlen, which is \u001b[39m\u001b[38;5;132;01m%d\u001b[39;00m\u001b[38;5;124m.\u001b[39m\u001b[38;5;124m\"\u001b[39m \u001b[38;5;241m%\u001b[39m edge)\n\u001b[0;32m   4183\u001b[0m \u001b[38;5;28;01mif\u001b[39;00m padtype \u001b[38;5;129;01mis\u001b[39;00m \u001b[38;5;129;01mnot\u001b[39;00m \u001b[38;5;28;01mNone\u001b[39;00m \u001b[38;5;129;01mand\u001b[39;00m edge \u001b[38;5;241m>\u001b[39m \u001b[38;5;241m0\u001b[39m:\n\u001b[0;32m   4184\u001b[0m     \u001b[38;5;66;03m# Make an extension of length `edge` at each\u001b[39;00m\n\u001b[0;32m   4185\u001b[0m     \u001b[38;5;66;03m# end of the input array.\u001b[39;00m\n\u001b[0;32m   4186\u001b[0m     \u001b[38;5;28;01mif\u001b[39;00m padtype \u001b[38;5;241m==\u001b[39m \u001b[38;5;124m'\u001b[39m\u001b[38;5;124meven\u001b[39m\u001b[38;5;124m'\u001b[39m:\n",
      "\u001b[1;31mValueError\u001b[0m: The length of the input vector x must be greater than padlen, which is 18."
     ]
    }
   ],
   "source": [
    "# Build pipeline with default preprocessing and feature extraction methods\n",
    "# Asynchronous directed acyclic graph\n",
    "\n",
    "# from care_for_me import feature_extractor\n",
    "# from care_for_me import signal_acquisition\n",
    "# from care_for_me import signal_preprocessor\n",
    "# from care_for_me import pipeline\n",
    "import biosppy as bp\n",
    "\n",
    "from care_for_me.feature_extractor.feature_extractor import FeatureExtractor\n",
    "from care_for_me.signal_acquisition.signal_acquisition import SignalAcquisition\n",
    "from care_for_me.signal_preprocessor.signal_preprocessor import SignalPreprocessor\n",
    "from care_for_me.feature_selector.feature_selector import FeatureSelector\n",
    "from care_for_me.pipeline.pipeline import Node, Pipeline\n",
    "\n",
    "from sklearn.svm import SVC\n",
    "\n",
    "\n",
    "# Change wesad_path according to your local file structure\n",
    "wesad_path = \"C:\\\\Users\\\\zhoux\\\\Desktop\\\\Projects\\\\CAREforMe\\\\data\\\\WESAD-test\"\n",
    "source_folder = os.path.join(wesad_path, \"formatted\")\n",
    "signal_types = [\n",
    "    signals.Signals.ECG,\n",
    "    signals.Signals.EDA\n",
    "]\n",
    "features = [\n",
    "    signals.Features.HR, signals.Features.RMSSD, signals.Features.SDNN,\n",
    "    signals.Features.MEAN_SCL, signals.Features.SCR_RATE\n",
    "]\n",
    "\n",
    "signal_acq = SignalAcquisition(source_folder=source_folder, signal_types=signal_types)\n",
    "signal_preprocessor = SignalPreprocessor()\n",
    "feature_extractor = FeatureExtractor()\n",
    "\n",
    "labels = wesad.SUBJECTS\n",
    "model = SVC()\n",
    "feature_selector = FeatureSelector(model, features, labels)\n",
    "\n",
    "pipeline = Pipeline()\n",
    "\n",
    "pipeline.generate_nodes_from_layers(\n",
    "    [signal_acq, signal_preprocessor, feature_extractor, feature_selector]\n",
    ")\n",
    "\n",
    "pipeline.run()"
   ]
  }
 ],
 "metadata": {
  "kernelspec": {
   "display_name": "Python 3",
   "language": "python",
   "name": "python3"
  },
  "language_info": {
   "codemirror_mode": {
    "name": "ipython",
    "version": 3
   },
   "file_extension": ".py",
   "mimetype": "text/x-python",
   "name": "python",
   "nbconvert_exporter": "python",
   "pygments_lexer": "ipython3",
   "version": "3.10.9"
  }
 },
 "nbformat": 4,
 "nbformat_minor": 2
}
