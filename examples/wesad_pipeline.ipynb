{
 "cells": [
  {
   "cell_type": "markdown",
   "metadata": {},
   "source": [
    "### An example implementation of the CAREforMe pipeline using the WESAD dataset"
   ]
  },
  {
   "cell_type": "code",
   "execution_count": 1,
   "metadata": {},
   "outputs": [],
   "source": [
    "%load_ext autoreload\n",
    "%autoreload 2\n",
    "\n",
    "import os\n",
    "import sys\n",
    "module_path = os.path.abspath(os.path.join(\"../care_for_me\"))\n",
    "sys.path.insert(0, module_path)\n",
    "module_path = os.path.abspath(os.path.join(\"..\"))\n",
    "sys.path.insert(0, module_path)\n",
    "\n",
    "import numpy as np\n",
    "import pandas as pd\n",
    "import wesad\n",
    "\n",
    "from care_for_me import signals\n",
    "\n",
    "\n",
    "ROOT_DIR = \"C:\\\\Users\\\\zhoux\\\\Desktop\\\\Projects\\\\CAREforMe\"\n",
    "DATA_DIR = os.path.join(ROOT_DIR, \"data\")\n",
    "WESAD_PATH = os.path.join(DATA_DIR, \"WESAD\")\n",
    "METRICS = os.path.join(DATA_DIR, \"metrics\", \"WESAD\")\n",
    "\n",
    "subject_indices = list(range(2, 12)) + list(range(13, 18))\n",
    "SUBJECTS = [str(i) for i in subject_indices]"
   ]
  },
  {
   "cell_type": "code",
   "execution_count": null,
   "metadata": {},
   "outputs": [],
   "source": [
    "# Format data to be compatible with CAREforMe pipeline\n",
    "# Only needs to be run once locally \n",
    "# Status: COMPLETE, do not re-run\n",
    "wesad.reformat_and_save_data()"
   ]
  },
  {
   "cell_type": "code",
   "execution_count": 3,
   "metadata": {},
   "outputs": [
    {
     "name": "stdout",
     "output_type": "stream",
     "text": [
      "    subject  Base_STAI  TSST_STAI  Medi_1_STAI  Fun_STAI  Medi_2_STAI\n",
      "0         2          0          1            0         0            0\n",
      "1         3          0          1            0         0            0\n",
      "2         4          0          1            1         0            1\n",
      "3         5          0          1            0         1            0\n",
      "4         6          0          1            0         1            0\n",
      "5         7          0          1            0         0            1\n",
      "6         8          0          1            1         0            0\n",
      "7         9          0          1            0         1            0\n",
      "8        10          0          1            0         0            0\n",
      "9        11          0          1            0         0            0\n",
      "10       13          1          1            0         0            1\n",
      "11       14          0          1            0         0            0\n",
      "12       15          1          1            0         0            0\n",
      "13       16          1          1            0         0            0\n",
      "14       17          0          1            0         0            1\n"
     ]
    }
   ],
   "source": [
    "print(wesad.generate_labels(threshold=\"dynamic\"))"
   ]
  },
  {
   "cell_type": "code",
   "execution_count": 50,
   "metadata": {},
   "outputs": [
    {
     "name": "stdout",
     "output_type": "stream",
     "text": [
      "Running node Signal Acquisition...\n",
      "Elapsed time for Signal Acquisition: 0.0\n",
      "Running node Signal Preprocessor...\n",
      "Elapsed time for Signal Preprocessor: 0.708125114440918\n",
      "Running node Feature Extractor...\n",
      "    subject Phase         HR      RMSSD       SDNN    mean_SCL  SCR_rate\n",
      "0        10   Fun  99.555979  10.870900  20.586260         NaN       NaN\n",
      "1        10   Fun        NaN        NaN        NaN  861.511533       3.0\n",
      "2        10  Base  94.391084  22.859390  47.855097         NaN       NaN\n",
      "3        10  Base        NaN        NaN        NaN  846.681929       6.0\n",
      "4        10  TSST  87.483717  73.393266  85.883538         NaN       NaN\n",
      "..      ...   ...        ...        ...        ...         ...       ...\n",
      "145       9  TSST        NaN        NaN        NaN  858.053279       1.0\n",
      "146       9  Medi  73.955746  61.541314  89.611861         NaN       NaN\n",
      "147       9  Medi        NaN        NaN        NaN  838.041776       2.0\n",
      "148       9  Medi  74.309963  30.066593  32.510072         NaN       NaN\n",
      "149       9  Medi        NaN        NaN        NaN  846.396805       2.0\n",
      "\n",
      "[150 rows x 7 columns]\n",
      "Elapsed time for Feature Extractor: 4.005206346511841\n"
     ]
    },
    {
     "ename": "IndexError",
     "evalue": "list index out of range",
     "output_type": "error",
     "traceback": [
      "\u001b[1;31m---------------------------------------------------------------------------\u001b[0m",
      "\u001b[1;31mIndexError\u001b[0m                                Traceback (most recent call last)",
      "Cell \u001b[1;32mIn[50], line 57\u001b[0m\n\u001b[0;32m     55\u001b[0m out \u001b[38;5;241m=\u001b[39m pipeline\u001b[38;5;241m.\u001b[39mrun()\n\u001b[0;32m     56\u001b[0m fitted_model \u001b[38;5;241m=\u001b[39m out[\u001b[38;5;241m0\u001b[39m]\n\u001b[1;32m---> 57\u001b[0m y_true \u001b[38;5;241m=\u001b[39m \u001b[43mout\u001b[49m\u001b[43m[\u001b[49m\u001b[38;5;241;43m1\u001b[39;49m\u001b[43m]\u001b[49m\n\u001b[0;32m     58\u001b[0m y_pred \u001b[38;5;241m=\u001b[39m out[\u001b[38;5;241m2\u001b[39m]\n",
      "\u001b[1;31mIndexError\u001b[0m: list index out of range"
     ]
    }
   ],
   "source": [
    "# Build pipeline with default preprocessing and feature extraction methods\n",
    "# Asynchronous directed acyclic graph\n",
    "\n",
    "# from care_for_me import feature_extractor\n",
    "# from care_for_me import signal_acquisition\n",
    "# from care_for_me import signal_preprocessor\n",
    "# from care_for_me import pipeline\n",
    "import random\n",
    "\n",
    "from care_for_me.feature_extractor.feature_extractor import FeatureExtractor\n",
    "from care_for_me.signal_acquisition.signal_acquisition import SignalAcquisition\n",
    "from care_for_me.signal_preprocessor.signal_preprocessor import SignalPreprocessor\n",
    "from care_for_me.feature_selector.feature_selector import FeatureSelector\n",
    "from care_for_me.classification.estimator import Estimator\n",
    "from care_for_me.pipeline.pipeline import Node, Pipeline\n",
    "\n",
    "from sklearn.svm import SVC\n",
    "\n",
    "# TODO: WESAD data includes phases labeled Medi_1 and Medi_2. Currently, the filename parsing \n",
    "# treats these two phases as the same; need to fix.\n",
    "\n",
    "# Change wesad_path according to your local file structure\n",
    "wesad_path = \"C:\\\\Users\\\\zhoux\\\\Desktop\\\\Projects\\\\CAREforMe\\\\data\\\\WESAD\"\n",
    "source_folder = os.path.join(wesad_path, \"formatted\")\n",
    "signal_types = [\n",
    "    signals.Signals.ECG,\n",
    "    signals.Signals.EDA\n",
    "]\n",
    "feature_names = [\n",
    "    signals.Features.HR, signals.Features.RMSSD, signals.Features.SDNN,\n",
    "    # signals.Features.HR,\n",
    "    signals.Features.MEAN_SCL, signals.Features.SCR_RATE\n",
    "]\n",
    "\n",
    "signal_acq = SignalAcquisition(source_folder=source_folder, signal_types=signal_types)\n",
    "signal_preprocessor = SignalPreprocessor(skip=True, resample_rate=100)\n",
    "feature_extractor = FeatureExtractor()\n",
    "\n",
    "labels = [random.choice([0, 1]) for _ in range(len(wesad.SUBJECTS))]\n",
    "model = SVC()\n",
    "feature_selector = FeatureSelector(model, feature_names, labels, num_features=3)\n",
    "estimator_train = Estimator(labels, 0, model, name=\"SVC training\")\n",
    "estimator_test = Estimator(labels, 1, model, name=\"SVC testing\")\n",
    "estimator_train_val_test = Estimator(labels, 2, model, name=\"SVC train-val-test\")\n",
    "\n",
    "pipeline = Pipeline()\n",
    "\n",
    "pipeline.generate_nodes_from_layers(\n",
    "    [signal_acq, signal_preprocessor, feature_extractor]\n",
    "    # [signal_acq, signal_preprocessor, feature_extractor, feature_selector, estimator_train, estimator_test]\n",
    "    # [signal_acq, signal_preprocessor, feature_extractor, feature_selector, estimator_train_val_test]\n",
    ")\n",
    "\n",
    "# We leave it up to the user to handle the final output of the pipeline. \n",
    "out = pipeline.run()\n",
    "fitted_model = out[0]\n",
    "y_true = out[1]\n",
    "y_pred = out[2]"
   ]
  }
 ],
 "metadata": {
  "kernelspec": {
   "display_name": "Python 3",
   "language": "python",
   "name": "python3"
  },
  "language_info": {
   "codemirror_mode": {
    "name": "ipython",
    "version": 3
   },
   "file_extension": ".py",
   "mimetype": "text/x-python",
   "name": "python",
   "nbconvert_exporter": "python",
   "pygments_lexer": "ipython3",
   "version": "3.10.9"
  }
 },
 "nbformat": 4,
 "nbformat_minor": 2
}
