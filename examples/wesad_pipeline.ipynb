{
 "cells": [
  {
   "cell_type": "markdown",
   "metadata": {},
   "source": [
    "### An example implementation of the CAREforMe pipeline using the WESAD dataset"
   ]
  },
  {
   "cell_type": "code",
   "execution_count": 1,
   "metadata": {},
   "outputs": [],
   "source": [
    "%load_ext autoreload\n",
    "%autoreload 2\n",
    "\n",
    "import os\n",
    "import sys\n",
    "module_path = os.path.abspath(os.path.join(\"../care_for_me\"))\n",
    "sys.path.insert(0, module_path)\n",
    "module_path = os.path.abspath(os.path.join(\"..\"))\n",
    "sys.path.insert(0, module_path)\n",
    "\n",
    "import numpy as np\n",
    "import pandas as pd\n",
    "import wesad\n",
    "\n",
    "from care_for_me import signals\n",
    "\n",
    "\n",
    "ROOT_DIR = \"C:\\\\Users\\\\zhoux\\\\Desktop\\\\Projects\\\\CAREforMe\"\n",
    "DATA_DIR = os.path.join(ROOT_DIR, \"data\")\n",
    "WESAD_PATH = os.path.join(DATA_DIR, \"WESAD\")\n",
    "METRICS = os.path.join(DATA_DIR, \"metrics\", \"WESAD\")\n",
    "\n",
    "subject_indices = list(range(2, 12)) + list(range(13, 18))\n",
    "SUBJECTS = [str(i) for i in subject_indices]"
   ]
  },
  {
   "cell_type": "code",
   "execution_count": null,
   "metadata": {},
   "outputs": [],
   "source": [
    "# Format data to be compatible with CAREforMe pipeline\n",
    "# Only needs to be run once \n",
    "# Status: COMPLETE, do not re-run\n",
    "wesad.reformat_and_save_data()"
   ]
  },
  {
   "cell_type": "code",
   "execution_count": 83,
   "metadata": {},
   "outputs": [
    {
     "name": "stdout",
     "output_type": "stream",
     "text": [
      "10.2\n",
      "12.2\n",
      "12.4\n",
      "11.2\n",
      "9.8\n",
      "10.6\n",
      "14.0\n",
      "9.4\n",
      "12.2\n",
      "10.0\n",
      "13.4\n",
      "13.8\n",
      "11.8\n",
      "12.4\n",
      "13.2\n",
      "    subject  Base_STAI  TSST_STAI  Medi_1_STAI  Fun_STAI  Medi_2_STAI\n",
      "0         2          0          1            0         0            0\n",
      "1         3          0          1            0         0            0\n",
      "2         4          0          1            1         0            1\n",
      "3         5          0          1            0         1            0\n",
      "4         6          0          1            0         1            0\n",
      "5         7          0          1            0         0            1\n",
      "6         8          0          1            1         0            0\n",
      "7         9          0          1            0         1            0\n",
      "8        10          0          1            0         0            0\n",
      "9        11          0          1            0         0            0\n",
      "10       13          1          1            0         0            1\n",
      "11       14          0          1            0         0            0\n",
      "12       15          1          1            0         0            0\n",
      "13       16          1          1            0         0            0\n",
      "14       17          0          1            0         0            1\n"
     ]
    }
   ],
   "source": [
    "print(wesad.generate_labels(threshold=\"dynamic\"))"
   ]
  },
  {
   "cell_type": "code",
   "execution_count": 85,
   "metadata": {},
   "outputs": [
    {
     "name": "stdout",
     "output_type": "stream",
     "text": [
      "Running node Signal Acquisition...\n",
      "Elapsed time for Signal Acquisition: 0.0\n",
      "Running node Signal Preprocessor...\n",
      "Elapsed time for Signal Preprocessor: 0.39056849479675293\n",
      "Running node Feature Extractor...\n",
      "Elapsed time for Feature Extractor: 0.3585641384124756\n",
      "Running node Feature Selector...\n",
      "['subject' 'HR' 'RMSSD']\n",
      "Elapsed time for Feature Selector: 0.06751298904418945\n"
     ]
    }
   ],
   "source": [
    "# Build pipeline with default preprocessing and feature extraction methods\n",
    "# Asynchronous directed acyclic graph\n",
    "\n",
    "# from care_for_me import feature_extractor\n",
    "# from care_for_me import signal_acquisition\n",
    "# from care_for_me import signal_preprocessor\n",
    "# from care_for_me import pipeline\n",
    "import biosppy as bp\n",
    "import random\n",
    "\n",
    "from care_for_me.feature_extractor.feature_extractor import FeatureExtractor\n",
    "from care_for_me.signal_acquisition.signal_acquisition import SignalAcquisition\n",
    "from care_for_me.signal_preprocessor.signal_preprocessor import SignalPreprocessor\n",
    "from care_for_me.feature_selector.feature_selector import FeatureSelector\n",
    "from care_for_me.pipeline.pipeline import Node, Pipeline\n",
    "\n",
    "from sklearn.svm import SVC\n",
    "\n",
    "\n",
    "# Change wesad_path according to your local file structure\n",
    "wesad_path = \"C:\\\\Users\\\\zhoux\\\\Desktop\\\\Projects\\\\CAREforMe\\\\data\\\\WESAD\"\n",
    "source_folder = os.path.join(wesad_path, \"formatted\")\n",
    "signal_types = [\n",
    "    signals.Signals.ECG,\n",
    "    # signals.Signals.EDA\n",
    "]\n",
    "features = [\n",
    "    signals.Features.HR, signals.Features.RMSSD, signals.Features.SDNN,\n",
    "    # signals.Features.HR,\n",
    "    signals.Features.MEAN_SCL, signals.Features.SCR_RATE\n",
    "]\n",
    "\n",
    "signal_acq = SignalAcquisition(source_folder=source_folder, signal_types=signal_types)\n",
    "signal_preprocessor = SignalPreprocessor(skip=True, resample_rate=100)\n",
    "feature_extractor = FeatureExtractor()\n",
    "\n",
    "labels = [random.choice([0, 1]) for _ in range(len(SUBJECTS))]\n",
    "model = SVC()\n",
    "feature_selector = FeatureSelector(model, features, labels, num_features=3)\n",
    "\n",
    "pipeline = Pipeline()\n",
    "\n",
    "pipeline.generate_nodes_from_layers(\n",
    "    [signal_acq, signal_preprocessor, feature_extractor, feature_selector]\n",
    ")\n",
    "\n",
    "pipeline.run()"
   ]
  }
 ],
 "metadata": {
  "kernelspec": {
   "display_name": "Python 3",
   "language": "python",
   "name": "python3"
  },
  "language_info": {
   "codemirror_mode": {
    "name": "ipython",
    "version": 3
   },
   "file_extension": ".py",
   "mimetype": "text/x-python",
   "name": "python",
   "nbconvert_exporter": "python",
   "pygments_lexer": "ipython3",
   "version": "3.10.9"
  }
 },
 "nbformat": 4,
 "nbformat_minor": 2
}
