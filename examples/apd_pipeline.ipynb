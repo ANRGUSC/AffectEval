{
 "cells": [
  {
   "cell_type": "markdown",
   "metadata": {},
   "source": [
    "### An example implementation of the CAREforMe pipeline using the APD dataset"
   ]
  },
  {
   "cell_type": "code",
   "execution_count": 1,
   "metadata": {},
   "outputs": [],
   "source": [
    "%load_ext autoreload\n",
    "%autoreload 2\n",
    "\n",
    "import os\n",
    "import sys\n",
    "module_path = os.path.abspath(os.path.join(\"../care_for_me\"))\n",
    "sys.path.insert(0, module_path)\n",
    "module_path = os.path.abspath(os.path.join(\"..\"))\n",
    "sys.path.insert(0, module_path)\n",
    "\n",
    "import numpy as np\n",
    "import pandas as pd\n",
    "import apd\n",
    "\n",
    "from care_for_me import signals\n",
    "\n",
    "\n",
    "ROOT_DIR = \"C:\\\\Users\\\\zhoux\\\\Desktop\\\\Projects\\\\CAREforMe\"\n",
    "DATA_DIR = os.path.join(ROOT_DIR, \"data\")\n",
    "APD_PATH = os.path.join(DATA_DIR, \"APD\")\n",
    "METRICS = os.path.join(DATA_DIR, \"metrics\", \"APD\")\n",
    "\n",
    "ALL = \"all\"\n",
    "HA = \"high_anxiety_group\"\n",
    "LA = \"low_anxiety_group\"\n",
    "\n",
    "ha_participant_indices = [\n",
    "    '4', '6', '7', '8', '10', '12', '15', '16', '18', '22', '26', '27', '29', '31', '32', '33', '35', '42', '45', '47', '48', '49', '54', '55', '66', '69'\n",
    "]\n",
    "\n",
    "la_participant_indices = [\n",
    "    '14', '21', '23', '25', '34', '39', '43', '46', '51', '57', '71', '72', '77', '78', '79', '80', '82', '83', '84', '85', '87', '88', '89', '91', '92', '93'\n",
    "]\n",
    "\n",
    "SUBJECTS = ha_participant_indices.extend(la_participant_indices)"
   ]
  },
  {
   "cell_type": "code",
   "execution_count": null,
   "metadata": {},
   "outputs": [],
   "source": [
    "# Format data to be compatible with CAREforMe pipeline\n",
    "# Only needs to be run once \n",
    "# Status: COMPLETE, do not re-run\n",
    "apd.reformat_and_save_data()"
   ]
  },
  {
   "cell_type": "code",
   "execution_count": 18,
   "metadata": {},
   "outputs": [
    {
     "name": "stdout",
     "output_type": "stream",
     "text": [
      "    Baseline_SUDS  BugBox_Relax_SUDS  BugBox_Preparation_SUDS  \\\n",
      "0               0                  0                        1   \n",
      "1               0                  0                        0   \n",
      "2               0                  0                        0   \n",
      "3               0                  0                        0   \n",
      "4               0                  0                        0   \n",
      "..            ...                ...                      ...   \n",
      "90              0                  0                        0   \n",
      "91              0                  0                        0   \n",
      "92              1                  0                        1   \n",
      "93              0                  0                        0   \n",
      "94              0                  0                        1   \n",
      "\n",
      "    BugBox_Exposure_SUDS  BugBox_Break_SUDS  Speech_Relax_SUDS  Speech_SUDS  \\\n",
      "0                      0                  0                  0            0   \n",
      "1                      0                  0                  0            0   \n",
      "2                      0                  0                  0            0   \n",
      "3                      0                  0                  0            1   \n",
      "4                      0                  0                  0            1   \n",
      "..                   ...                ...                ...          ...   \n",
      "90                     0                  0                  0            0   \n",
      "91                     1                  1                  0            0   \n",
      "92                     1                  1                  1            1   \n",
      "93                     0                  0                  0            1   \n",
      "94                     1                  0                  0            1   \n",
      "\n",
      "    Speech_Exposure_SUDS  Speech_Break_SUDS  \n",
      "0                      0                  0  \n",
      "1                      0                  0  \n",
      "2                      0                  0  \n",
      "3                      1                  0  \n",
      "4                      0                  0  \n",
      "..                   ...                ...  \n",
      "90                     0                  0  \n",
      "91                     1                  0  \n",
      "92                     1                  1  \n",
      "93                     1                  1  \n",
      "94                     1                  0  \n",
      "\n",
      "[95 rows x 9 columns]\n"
     ]
    }
   ],
   "source": [
    "labels = apd.get_suds_labels()\n",
    "print(labels)"
   ]
  }
 ],
 "metadata": {
  "kernelspec": {
   "display_name": "Python 3",
   "language": "python",
   "name": "python3"
  },
  "language_info": {
   "codemirror_mode": {
    "name": "ipython",
    "version": 3
   },
   "file_extension": ".py",
   "mimetype": "text/x-python",
   "name": "python",
   "nbconvert_exporter": "python",
   "pygments_lexer": "ipython3",
   "version": "3.10.9"
  }
 },
 "nbformat": 4,
 "nbformat_minor": 2
}
