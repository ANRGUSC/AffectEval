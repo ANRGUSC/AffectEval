{
 "cells": [
  {
   "cell_type": "markdown",
   "metadata": {},
   "source": [
    "### An example implementation of the CAREforMe pipeline using the APD dataset"
   ]
  },
  {
   "cell_type": "code",
   "execution_count": 2,
   "metadata": {},
   "outputs": [
    {
     "name": "stdout",
     "output_type": "stream",
     "text": [
      "The autoreload extension is already loaded. To reload it, use:\n",
      "  %reload_ext autoreload\n"
     ]
    }
   ],
   "source": [
    "%load_ext autoreload\n",
    "%autoreload 2\n",
    "\n",
    "import os\n",
    "import sys\n",
    "module_path = os.path.abspath(os.path.join(\"../care_for_me\"))\n",
    "sys.path.insert(0, module_path)\n",
    "module_path = os.path.abspath(os.path.join(\"..\"))\n",
    "sys.path.insert(0, module_path)\n",
    "\n",
    "import numpy as np\n",
    "import pandas as pd\n",
    "import apd\n",
    "\n",
    "from care_for_me import signals\n",
    "\n",
    "\n",
    "ROOT_DIR = \"C:\\\\Users\\\\zhoux\\\\Desktop\\\\Projects\\\\CAREforMe\"\n",
    "DATA_DIR = os.path.join(ROOT_DIR, \"data\")\n",
    "APD_PATH = os.path.join(DATA_DIR, \"APD\")\n",
    "SOURCE_FOLDER = os.path.join(APD_PATH, \"formatted\")\n",
    "METRICS = os.path.join(DATA_DIR, \"metrics\", \"APD\")\n",
    "\n",
    "ALL = \"all\"\n",
    "HA = \"high_anxiety_group\"\n",
    "LA = \"low_anxiety_group\"\n",
    "\n",
    "ha_participant_indices = [\n",
    "    '4', '6', '7', '8', '10', '12', '15', '16', '18', '22', '26', '27', '29', '31', '32', '33', '35', '42', '45', '47', '48', '49', '54', '55', '66', '69'\n",
    "]\n",
    "\n",
    "la_participant_indices = [\n",
    "    '14', '21', '23', '25', '34', '39', '43', '46', '51', '57', '71', '72', '77', '78', '79', '80', '82', '83', '84', '85', '87', '88', '89', '91', '92', '93'\n",
    "]\n",
    "\n",
    "SUBJECTS = ha_participant_indices.extend(la_participant_indices)"
   ]
  },
  {
   "cell_type": "code",
   "execution_count": null,
   "metadata": {},
   "outputs": [],
   "source": [
    "# Format data to be compatible with CAREforMe pipeline\n",
    "# Only needs to be run once locally\n",
    "# Status: COMPLETE, do not re-run\n",
    "apd.reformat_and_save_data()"
   ]
  },
  {
   "cell_type": "code",
   "execution_count": 18,
   "metadata": {},
   "outputs": [
    {
     "name": "stdout",
     "output_type": "stream",
     "text": [
      "    Baseline_SUDS  BugBox_Relax_SUDS  BugBox_Preparation_SUDS  \\\n",
      "0               0                  0                        1   \n",
      "1               0                  0                        0   \n",
      "2               0                  0                        0   \n",
      "3               0                  0                        0   \n",
      "4               0                  0                        0   \n",
      "..            ...                ...                      ...   \n",
      "90              0                  0                        0   \n",
      "91              0                  0                        0   \n",
      "92              1                  0                        1   \n",
      "93              0                  0                        0   \n",
      "94              0                  0                        1   \n",
      "\n",
      "    BugBox_Exposure_SUDS  BugBox_Break_SUDS  Speech_Relax_SUDS  Speech_SUDS  \\\n",
      "0                      0                  0                  0            0   \n",
      "1                      0                  0                  0            0   \n",
      "2                      0                  0                  0            0   \n",
      "3                      0                  0                  0            1   \n",
      "4                      0                  0                  0            1   \n",
      "..                   ...                ...                ...          ...   \n",
      "90                     0                  0                  0            0   \n",
      "91                     1                  1                  0            0   \n",
      "92                     1                  1                  1            1   \n",
      "93                     0                  0                  0            1   \n",
      "94                     1                  0                  0            1   \n",
      "\n",
      "    Speech_Exposure_SUDS  Speech_Break_SUDS  \n",
      "0                      0                  0  \n",
      "1                      0                  0  \n",
      "2                      0                  0  \n",
      "3                      1                  0  \n",
      "4                      0                  0  \n",
      "..                   ...                ...  \n",
      "90                     0                  0  \n",
      "91                     1                  0  \n",
      "92                     1                  1  \n",
      "93                     1                  1  \n",
      "94                     1                  0  \n",
      "\n",
      "[95 rows x 9 columns]\n"
     ]
    }
   ],
   "source": [
    "labels = apd.get_suds_labels()\n",
    "print(labels)"
   ]
  },
  {
   "cell_type": "code",
   "execution_count": 5,
   "metadata": {},
   "outputs": [
    {
     "name": "stdout",
     "output_type": "stream",
     "text": [
      "Running node Signal Acquisition...\n",
      "Elapsed time for Signal Acquisition: 0.0004999637603759766\n",
      "Running node Signal Preprocessor...\n",
      "Elapsed time for Signal Preprocessor: 0.0\n",
      "Running node Feature Extractor...\n"
     ]
    },
    {
     "name": "stderr",
     "output_type": "stream",
     "text": [
      "100%|██████████| 52/52 [00:00<00:00, 3354.26it/s]"
     ]
    },
    {
     "name": "stdout",
     "output_type": "stream",
     "text": [
      "Elapsed time for Feature Extractor: 0.02100396156311035\n"
     ]
    },
    {
     "name": "stderr",
     "output_type": "stream",
     "text": [
      "\n"
     ]
    }
   ],
   "source": [
    "# Build pipeline with default preprocessing and feature extraction methods\n",
    "# Asynchronous directed acyclic graph\n",
    "\n",
    "# from care_for_me import feature_extractor\n",
    "# from care_for_me import signal_acquisition\n",
    "# from care_for_me import signal_preprocessor\n",
    "# from care_for_me import pipeline\n",
    "import random\n",
    "\n",
    "from care_for_me.feature_extractor.feature_extractor import FeatureExtractor\n",
    "from care_for_me.signal_acquisition.signal_acquisition import SignalAcquisition\n",
    "from care_for_me.signal_preprocessor.signal_preprocessor import SignalPreprocessor\n",
    "from care_for_me.feature_selector.feature_selector import FeatureSelector\n",
    "from care_for_me.classification.estimator import Estimator\n",
    "from care_for_me.pipeline.pipeline import Node, Pipeline\n",
    "\n",
    "from sklearn.svm import SVC\n",
    "\n",
    "\n",
    "signal_types = [\n",
    "    signals.Signals.ECG,\n",
    "    # signals.Signals.EDA\n",
    "]\n",
    "feature_names = [\n",
    "    signals.Features.HR, signals.Features.RMSSD, signals.Features.SDNN,\n",
    "    # signals.Features.HR,\n",
    "    signals.Features.MEAN_SCL, signals.Features.SCR_RATE\n",
    "]\n",
    "\n",
    "signal_acq = SignalAcquisition(source_folder=SOURCE_FOLDER, signal_types=signal_types)\n",
    "signal_preprocessor = SignalPreprocessor(skip=True, resample_rate=100)\n",
    "feature_extractor = FeatureExtractor()\n",
    "\n",
    "labels = [random.choice([0, 1]) for _ in range(len(apd.SUBJECTS))]\n",
    "model = SVC()\n",
    "feature_selector = FeatureSelector(model, feature_names, labels, num_features=3)\n",
    "estimator_train = Estimator(labels, 0, model, name=\"SVC training\")\n",
    "estimator_test = Estimator(labels, 1, model, name=\"SVC testing\")\n",
    "\n",
    "pipeline = Pipeline()\n",
    "\n",
    "pipeline.generate_nodes_from_layers(\n",
    "    [signal_acq, signal_preprocessor, feature_extractor]\n",
    "    # [signal_acq, signal_preprocessor, feature_extractor, feature_selector, estimator_train, estimator_test]\n",
    ")\n",
    "\n",
    "out = pipeline.run()"
   ]
  }
 ],
 "metadata": {
  "kernelspec": {
   "display_name": "Python 3",
   "language": "python",
   "name": "python3"
  },
  "language_info": {
   "codemirror_mode": {
    "name": "ipython",
    "version": 3
   },
   "file_extension": ".py",
   "mimetype": "text/x-python",
   "name": "python",
   "nbconvert_exporter": "python",
   "pygments_lexer": "ipython3",
   "version": "3.10.9"
  }
 },
 "nbformat": 4,
 "nbformat_minor": 2
}
